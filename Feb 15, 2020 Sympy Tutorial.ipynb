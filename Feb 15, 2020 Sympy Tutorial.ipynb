{
 "cells": [
  {
   "cell_type": "markdown",
   "metadata": {},
   "source": [
    "---\n",
    "# Feb 15, 2020 Sympy Tutorial \n",
    "* Name: Jikhan Jeong\n",
    "* Ref: http://zetcode.com/python/sympy/\n",
    "* Env: Anaconda install -> Jupyter or Colab environment\n",
    "* Online Shell: https://live.sympy.org/ (Type in here and get a result directly, if you don't want to spend a time to install anaconda for python or using google colab notebook for python)\n",
    "---"
   ]
  },
  {
   "cell_type": "markdown",
   "metadata": {},
   "source": [
    "# <font color = blue> Real Example \n",
    "* Moment Condition with Beta distribution case"
   ]
  },
  {
   "cell_type": "code",
   "execution_count": 83,
   "metadata": {},
   "outputs": [],
   "source": [
    "from sympy import Symbol, symbols\n",
    "m1, m2= symbols('m1 m2')\n",
    "beta = (m1**2/(m2-m1**2)) * ((1-m1)**2)/(m1**2+m1*(1-m1)) - (m1*(1-m1))/(m1**2 + m1*(1-m1))"
   ]
  },
  {
   "cell_type": "code",
   "execution_count": 84,
   "metadata": {},
   "outputs": [
    {
     "data": {
      "image/png": "[encoded data removed]",
      "text/latex": [
       "$\\displaystyle \\frac{m_{1}^{2} \\left(1 - m_{1}\\right)^{2}}{\\left(- m_{1}^{2} + m_{2}\\right) \\left(m_{1}^{2} + m_{1} \\left(1 - m_{1}\\right)\\right)} - \\frac{m_{1} \\left(1 - m_{1}\\right)}{m_{1}^{2} + m_{1} \\left(1 - m_{1}\\right)}$"
      ],
      "text/plain": [
       "           2         2                              \n",
       "         m₁ ⋅(1 - m₁)                 m₁⋅(1 - m₁)   \n",
       "──────────────────────────────── - ─────────────────\n",
       "⎛    2     ⎞ ⎛  2              ⎞     2              \n",
       "⎝- m₁  + m₂⎠⋅⎝m₁  + m₁⋅(1 - m₁)⎠   m₁  + m₁⋅(1 - m₁)"
      ]
     },
     "execution_count": 84,
     "metadata": {},
     "output_type": "execute_result"
    }
   ],
   "source": [
    "beta"
   ]
  },
  {
   "cell_type": "code",
   "execution_count": 95,
   "metadata": {},
   "outputs": [
    {
     "data": {
      "image/png": "[encoded data removed]",
      "text/latex": [
       "$\\displaystyle \\frac{m_{1}^{2} - m_{1} m_{2} - m_{1} + m_{2}}{m_{1}^{2} - m_{2}}$"
      ],
      "text/plain": [
       "  2                  \n",
       "m₁  - m₁⋅m₂ - m₁ + m₂\n",
       "─────────────────────\n",
       "         2           \n",
       "       m₁  - m₂      "
      ]
     },
     "execution_count": 95,
     "metadata": {},
     "output_type": "execute_result"
    }
   ],
   "source": [
    "from sympy import simplify\n",
    "beta = simplify(beta)\n",
    "beta"
   ]
  },
  {
   "cell_type": "code",
   "execution_count": 97,
   "metadata": {},
   "outputs": [
    {
     "data": {
      "image/png": "[encoded data removed]",
      "text/latex": [
       "$\\displaystyle \\frac{m_{1}^{2}}{m_{1}^{2} - m_{2}} - \\frac{m_{1} m_{2}}{m_{1}^{2} - m_{2}} - \\frac{m_{1}}{m_{1}^{2} - m_{2}} + \\frac{m_{2}}{m_{1}^{2} - m_{2}}$"
      ],
      "text/plain": [
       "    2                                    \n",
       "  m₁        m₁⋅m₂        m₁         m₂   \n",
       "──────── - ──────── - ──────── + ────────\n",
       "  2          2          2          2     \n",
       "m₁  - m₂   m₁  - m₂   m₁  - m₂   m₁  - m₂"
      ]
     },
     "execution_count": 97,
     "metadata": {},
     "output_type": "execute_result"
    }
   ],
   "source": [
    "from sympy import expand\n",
    "expand(beta)"
   ]
  },
  {
   "cell_type": "markdown",
   "metadata": {},
   "source": [
    "---\n",
    "# <font color = blue> Tutorial Start\n",
    "* 1. Rational values\n",
    "* 2. SymPy pprint\n",
    "* 3. Square root\n",
    "* 4. SymPy symbols\n",
    "* 5. SymPy canonical form of expression\n",
    "* 6. SymPy expanding algebraic expressions\n",
    "* 7. SymPy simplify an expression\n",
    "* 8. SymPy comparig expression\n",
    "* 9. SymPy evaluating expression\n",
    "* 10. SymPy solving equations\n",
    "* 11. SymPy sequence\n",
    "* 12. SymPy limit\n",
    "* 13. SymPy matrixes\n",
    "* 14. SymPy plotting"
   ]
  },
  {
   "cell_type": "markdown",
   "metadata": {},
   "source": [
    "---\n",
    "## Rational values\n",
    "* Rational for working with rational numbers. \n",
    "* A rational number is any number that can be expressed as the quotient or fraction p/q of two integers\n",
    "---"
   ]
  },
  {
   "cell_type": "code",
   "execution_count": 2,
   "metadata": {},
   "outputs": [],
   "source": [
    "import sympy\n",
    "from sympy import Rational"
   ]
  },
  {
   "cell_type": "code",
   "execution_count": 4,
   "metadata": {},
   "outputs": [],
   "source": [
    "r1 = Rational(1/10)\n",
    "r2 = Rational(1/10)\n",
    "r3 = Rational(1/10)"
   ]
  },
  {
   "cell_type": "code",
   "execution_count": 8,
   "metadata": {},
   "outputs": [
    {
     "name": "stdout",
     "output_type": "stream",
     "text": [
      "0.900000000000000\n"
     ]
    }
   ],
   "source": [
    "val = (r1 + r2 + r3) * 3\n",
    "print(val.evalf()) # The expression is in the symbolic form; we evaluate it with evalf() method."
   ]
  },
  {
   "cell_type": "code",
   "execution_count": 9,
   "metadata": {},
   "outputs": [
    {
     "name": "stdout",
     "output_type": "stream",
     "text": [
      "0.9000000000000001\n"
     ]
    }
   ],
   "source": [
    "val2 = (1/10 + 1/10 + 1/10) * 3\n",
    "print(val2)"
   ]
  },
  {
   "cell_type": "markdown",
   "metadata": {},
   "source": [
    "---\n",
    "## pprint()\n",
    "* The pprint() is used for pretty printing the output on the console. \n",
    "* The best results are achieved with LaTeX\n",
    "---"
   ]
  },
  {
   "cell_type": "code",
   "execution_count": 10,
   "metadata": {},
   "outputs": [],
   "source": [
    "from sympy import pprint, Symbol, exp, sqrt\n",
    "from sympy import init_printing\n",
    "init_printing(use_unicode=True) # For some characters we need to enable unicode support."
   ]
  },
  {
   "cell_type": "code",
   "execution_count": 17,
   "metadata": {},
   "outputs": [
    {
     "name": "stdout",
     "output_type": "stream",
     "text": [
      "sqrt(2)\n",
      "------------------------\n",
      "√2\n",
      "------------------------\n",
      "------------------------\n"
     ]
    }
   ],
   "source": [
    "x = Symbol('x')\n",
    "\n",
    "a = sqrt(2)\n",
    "print(a)\n",
    "print(\"------------------------\")\n",
    "pprint(a)\n",
    "print(\"------------------------\")\n",
    "print(\"------------------------\")\n",
    "\n"
   ]
  },
  {
   "cell_type": "code",
   "execution_count": 18,
   "metadata": {},
   "outputs": [
    {
     "name": "stdout",
     "output_type": "stream",
     "text": [
      "exp(2*x)/2\n",
      "------------------------\n",
      " 2⋅x\n",
      "ℯ   \n",
      "────\n",
      " 2  \n",
      "------------------------\n",
      "------------------------\n"
     ]
    }
   ],
   "source": [
    "c = (exp(x) ** 2)/2\n",
    "print(c)\n",
    "print(\"------------------------\")\n",
    "pprint(c)\n",
    "print(\"------------------------\")\n",
    "print(\"------------------------\")"
   ]
  },
  {
   "cell_type": "markdown",
   "metadata": {},
   "source": [
    "---\n",
    "## Square root\n",
    "---"
   ]
  },
  {
   "cell_type": "code",
   "execution_count": 19,
   "metadata": {},
   "outputs": [],
   "source": [
    "from sympy import sqrt, pprint, Mul"
   ]
  },
  {
   "cell_type": "code",
   "execution_count": 20,
   "metadata": {},
   "outputs": [],
   "source": [
    "x = sqrt(2)\n",
    "y = sqrt(2)"
   ]
  },
  {
   "cell_type": "code",
   "execution_count": 22,
   "metadata": {},
   "outputs": [
    {
     "name": "stdout",
     "output_type": "stream",
     "text": [
      "√2⋅√2\n",
      "------------------------\n",
      "2\n",
      "------------------------\n",
      "equals to \n",
      "2\n"
     ]
    }
   ],
   "source": [
    "pprint(Mul(x,  y, evaluate=False)) \n",
    "print(\"------------------------\")\n",
    "pprint(Mul(x,  y, evaluate=True)) \n",
    "print(\"------------------------\")\n",
    "print('equals to ')\n",
    "print(x * y)"
   ]
  },
  {
   "cell_type": "markdown",
   "metadata": {},
   "source": [
    "---\n",
    "## SymPy symbols\n",
    "* Symbolic computation works with symbols, which may be later evaluated. \n",
    "* Symbols must be defined in SymPy before using them.\n",
    "---"
   ]
  },
  {
   "cell_type": "code",
   "execution_count": 23,
   "metadata": {},
   "outputs": [],
   "source": [
    "from sympy import Symbol, symbols\n",
    "from sympy.abc import x, y"
   ]
  },
  {
   "cell_type": "code",
   "execution_count": 24,
   "metadata": {},
   "outputs": [
    {
     "name": "stdout",
     "output_type": "stream",
     "text": [
      "2*x + 5*y\n"
     ]
    }
   ],
   "source": [
    "expr = 2*x + 5*y\n",
    "print(expr)"
   ]
  },
  {
   "cell_type": "code",
   "execution_count": 28,
   "metadata": {},
   "outputs": [
    {
     "name": "stdout",
     "output_type": "stream",
     "text": [
      "a*b + a - b\n"
     ]
    }
   ],
   "source": [
    "# We can define symbolic variable with Symbol\n",
    "a = Symbol('a')\n",
    "b = Symbol('b')\n",
    "expr2 = a*b + a - b\n",
    "print(expr2)"
   ]
  },
  {
   "cell_type": "code",
   "execution_count": 29,
   "metadata": {},
   "outputs": [
    {
     "name": "stdout",
     "output_type": "stream",
     "text": [
      "3*i*j\n"
     ]
    }
   ],
   "source": [
    "# Multiple symbols can be defined with symbols() method.\n",
    "i, j = symbols('i j')\n",
    "expr3 = 2*i*j + i*j\n",
    "print(expr3) "
   ]
  },
  {
   "cell_type": "markdown",
   "metadata": {},
   "source": [
    "---\n",
    "## SymPy canonical form of expression\n",
    "---"
   ]
  },
  {
   "cell_type": "code",
   "execution_count": 31,
   "metadata": {},
   "outputs": [
    {
     "name": "stdout",
     "output_type": "stream",
     "text": [
      "2*a*b + 3*a + 4*b\n"
     ]
    }
   ],
   "source": [
    "from sympy.abc import a, b\n",
    "expr = b*a + -4*a + b + a*b + 4*a + (a + b)*3\n",
    "print(expr)"
   ]
  },
  {
   "cell_type": "markdown",
   "metadata": {},
   "source": [
    "---\n",
    "## SymPy expanding algebraic expressions\n",
    "---"
   ]
  },
  {
   "cell_type": "code",
   "execution_count": 33,
   "metadata": {},
   "outputs": [
    {
     "name": "stdout",
     "output_type": "stream",
     "text": [
      "       2\n",
      "(x + 1) \n",
      "-----------------------\n",
      "-----------------------\n",
      " 2          \n",
      "x  + 2⋅x + 1\n"
     ]
    }
   ],
   "source": [
    "from sympy import expand, pprint\n",
    "from sympy.abc import x\n",
    "\n",
    "expr = (x + 1) ** 2\n",
    "\n",
    "pprint(expr)\n",
    "\n",
    "print('-----------------------')\n",
    "print('-----------------------')\n",
    "\n",
    "expr = expand(expr)\n",
    "pprint(expr)"
   ]
  },
  {
   "cell_type": "markdown",
   "metadata": {},
   "source": [
    "---\n",
    "## SymPy simplify an expression\n",
    "* An expression can be changed with simplify() to a simpler form.\n",
    "---"
   ]
  },
  {
   "cell_type": "code",
   "execution_count": 35,
   "metadata": {},
   "outputs": [
    {
     "name": "stdout",
     "output_type": "stream",
     "text": [
      "sin(x)\n",
      "──────\n",
      "cos(x)\n",
      "-----------------------\n",
      "tan(x)\n"
     ]
    }
   ],
   "source": [
    "from sympy import sin, cos, simplify, pprint\n",
    "from sympy.abc import x\n",
    "\n",
    "expr = sin(x) / cos(x)\n",
    "\n",
    "pprint(expr)\n",
    "\n",
    "print('-----------------------')\n",
    "\n",
    "expr = simplify(expr)\n",
    "pprint(expr)"
   ]
  },
  {
   "cell_type": "markdown",
   "metadata": {},
   "source": [
    "---\n",
    "## SymPy comparig expression\n",
    "* SymPy expressions are compared with equals() and **not** with == operator.\n",
    "* compare two expressions with equals()\n",
    "---"
   ]
  },
  {
   "cell_type": "code",
   "execution_count": 38,
   "metadata": {},
   "outputs": [
    {
     "name": "stdout",
     "output_type": "stream",
     "text": [
      "True\n"
     ]
    }
   ],
   "source": [
    "from sympy import pprint, Symbol, sin, cos\n",
    "\n",
    "x = Symbol('x')\n",
    "\n",
    "a = cos(x)**2 - sin(x)**2\n",
    "b = cos(2*x)\n",
    "\n",
    "print(a.equals(b))\n"
   ]
  },
  {
   "cell_type": "code",
   "execution_count": 39,
   "metadata": {},
   "outputs": [
    {
     "name": "stdout",
     "output_type": "stream",
     "text": [
      "False\n"
     ]
    }
   ],
   "source": [
    "# we cannot use == operator\n",
    "print(a == b)"
   ]
  },
  {
   "cell_type": "markdown",
   "metadata": {},
   "source": [
    "---\n",
    "## SymPy evaluating expression\n",
    "* Expressions can be evaluated by substitution of symbols.\n",
    "---"
   ]
  },
  {
   "cell_type": "code",
   "execution_count": 42,
   "metadata": {},
   "outputs": [
    {
     "name": "stdout",
     "output_type": "stream",
     "text": [
      "3.14\n",
      "3.14159265358979323846264338328\n"
     ]
    }
   ],
   "source": [
    "from sympy import pi\n",
    "\n",
    "print(pi.evalf(3))  # The example evaluates a pi value to three places.\n",
    "print(pi.evalf(30)) # The example evaluates a pi value to thirty places."
   ]
  },
  {
   "cell_type": "code",
   "execution_count": 44,
   "metadata": {},
   "outputs": [
    {
     "name": "stdout",
     "output_type": "stream",
     "text": [
      "2⋅a⋅b + 3⋅a + 4⋅b\n",
      "29\n",
      "9\n"
     ]
    }
   ],
   "source": [
    "from sympy.abc import a, b\n",
    "from sympy import pprint\n",
    "\n",
    "f = b*a + -4*a + b + a*b + 4*a + (a + b)*3\n",
    "pprint(f)\n",
    "print(f.subs([(a, 3), (b, 2)]))\n",
    "print(f.subs([(a, 1), (b, 1)]))"
   ]
  },
  {
   "cell_type": "markdown",
   "metadata": {},
   "source": [
    "---\n",
    "## SymPy solving equations\n",
    "* Equations are solved with solve() or solveset().\n",
    "* solveset(), we find a solution for the given interval.\n",
    "---"
   ]
  },
  {
   "cell_type": "code",
   "execution_count": 49,
   "metadata": {},
   "outputs": [
    {
     "name": "stdout",
     "output_type": "stream",
     "text": [
      "[0, 1]\n",
      "-------------\n",
      " 2    \n",
      "x  - x\n",
      "[0, 1]\n"
     ]
    }
   ],
   "source": [
    "from sympy import Symbol, solve\n",
    "\n",
    "x = Symbol('x')\n",
    "\n",
    "sol = solve(x**2 - x, x)\n",
    "\n",
    "print(sol)\n",
    "print('-------------')\n",
    "\n",
    "f = x**2 - x\n",
    "pprint(f)\n",
    "\n",
    "sol2 = solve(f, x)\n",
    "print(sol2)"
   ]
  },
  {
   "cell_type": "code",
   "execution_count": 51,
   "metadata": {},
   "outputs": [
    {
     "name": "stdout",
     "output_type": "stream",
     "text": [
      "[-1, 1]\n",
      "---\n",
      "{1}\n"
     ]
    }
   ],
   "source": [
    "# * solveset(), we find a solution for the given interval.\n",
    "from sympy.solvers import solveset\n",
    "from sympy import Symbol, Interval, pprint\n",
    "\n",
    "x = Symbol('x')\n",
    "\n",
    "sol = solve(x**2 - 1, x)\n",
    "print(sol)\n",
    "print('---')\n",
    "\n",
    "sol2 = solveset(x**2 - 1, x, Interval(0, 100))\n",
    "print(sol2)"
   ]
  },
  {
   "cell_type": "code",
   "execution_count": null,
   "metadata": {},
   "outputs": [],
   "source": [
    "---\n",
    "## SymPy sequence\n",
    "* A sequence can be finite or infinite. \n",
    "* The number of elements is called the length of the sequence. \n",
    "* \n"
   ]
  },
  {
   "cell_type": "code",
   "execution_count": 52,
   "metadata": {},
   "outputs": [],
   "source": [
    "from sympy import summation, sequence, pprint\n",
    "from sympy.abc import x"
   ]
  },
  {
   "cell_type": "code",
   "execution_count": 53,
   "metadata": {},
   "outputs": [
    {
     "name": "stdout",
     "output_type": "stream",
     "text": [
      "SeqFormula(x, (x, 1, 10))\n"
     ]
    }
   ],
   "source": [
    "s = sequence(x, (x, 1, 10))\n",
    "print(s)"
   ]
  },
  {
   "cell_type": "code",
   "execution_count": 54,
   "metadata": {},
   "outputs": [
    {
     "name": "stdout",
     "output_type": "stream",
     "text": [
      "[1, 2, 3, 4, …]\n"
     ]
    }
   ],
   "source": [
    "pprint(s)"
   ]
  },
  {
   "cell_type": "code",
   "execution_count": 55,
   "metadata": {},
   "outputs": [
    {
     "name": "stdout",
     "output_type": "stream",
     "text": [
      "[1, 2, 3, 4, 5, 6, 7, 8, 9, 10]\n"
     ]
    }
   ],
   "source": [
    "print(list(s))"
   ]
  },
  {
   "cell_type": "code",
   "execution_count": 56,
   "metadata": {},
   "outputs": [
    {
     "name": "stdout",
     "output_type": "stream",
     "text": [
      "10\n"
     ]
    }
   ],
   "source": [
    "print(s.length)"
   ]
  },
  {
   "cell_type": "code",
   "execution_count": 57,
   "metadata": {},
   "outputs": [
    {
     "name": "stdout",
     "output_type": "stream",
     "text": [
      "55\n"
     ]
    }
   ],
   "source": [
    "print(summation(s.formula, (x, s.start, s.stop)))"
   ]
  },
  {
   "cell_type": "code",
   "execution_count": 58,
   "metadata": {},
   "outputs": [
    {
     "name": "stdout",
     "output_type": "stream",
     "text": [
      "55\n"
     ]
    }
   ],
   "source": [
    "print(sum(list(s)))"
   ]
  },
  {
   "cell_type": "code",
   "execution_count": null,
   "metadata": {},
   "outputs": [],
   "source": [
    "---\n",
    "# SymPy limit\n",
    "* A limit is the value that a function (or sequence) \"approaches\" as the input (or index) \"approaches\" some value.\n",
    "---"
   ]
  },
  {
   "cell_type": "code",
   "execution_count": 62,
   "metadata": {},
   "outputs": [
    {
     "name": "stdout",
     "output_type": "stream",
     "text": [
      "0\n"
     ]
    }
   ],
   "source": [
    "from sympy import sin, limit, oo\n",
    "from sympy.abc import x\n",
    "\n",
    "l1 = limit(1/x, x, oo)\n",
    "print(l1)"
   ]
  },
  {
   "cell_type": "code",
   "execution_count": 63,
   "metadata": {},
   "outputs": [
    {
     "name": "stdout",
     "output_type": "stream",
     "text": [
      "oo\n"
     ]
    }
   ],
   "source": [
    "l2 = limit(1/x, x, 0)\n",
    "print(l2)"
   ]
  },
  {
   "cell_type": "markdown",
   "metadata": {},
   "source": [
    "---\n",
    "## SymPy matrixes\n",
    "---"
   ]
  },
  {
   "cell_type": "code",
   "execution_count": 69,
   "metadata": {},
   "outputs": [
    {
     "name": "stdout",
     "output_type": "stream",
     "text": [
      "M matrix shape:  (3, 2)\n"
     ]
    }
   ],
   "source": [
    "from sympy import Matrix, pprint\n",
    "\n",
    "M = Matrix([[1, 2], [3, 4], [0, 3]])\n",
    "print('M matrix shape: ', M.shape)"
   ]
  },
  {
   "cell_type": "code",
   "execution_count": 70,
   "metadata": {},
   "outputs": [
    {
     "name": "stdout",
     "output_type": "stream",
     "text": [
      "Matrix([[1, 2], [3, 4], [0, 3]])\n"
     ]
    }
   ],
   "source": [
    "print(M)"
   ]
  },
  {
   "cell_type": "code",
   "execution_count": 71,
   "metadata": {},
   "outputs": [
    {
     "name": "stdout",
     "output_type": "stream",
     "text": [
      "⎡1  2⎤\n",
      "⎢    ⎥\n",
      "⎢3  4⎥\n",
      "⎢    ⎥\n",
      "⎣0  3⎦\n"
     ]
    }
   ],
   "source": [
    "pprint(M)"
   ]
  },
  {
   "cell_type": "code",
   "execution_count": 72,
   "metadata": {},
   "outputs": [
    {
     "name": "stdout",
     "output_type": "stream",
     "text": [
      "N matrix shape:  (2, 1)\n",
      "⎡2⎤\n",
      "⎢ ⎥\n",
      "⎣2⎦\n"
     ]
    }
   ],
   "source": [
    "N = Matrix([2, 2])\n",
    "print('N matrix shape: ', N.shape)\n",
    "pprint(N)"
   ]
  },
  {
   "cell_type": "code",
   "execution_count": 73,
   "metadata": {},
   "outputs": [
    {
     "name": "stdout",
     "output_type": "stream",
     "text": [
      "M * N\n",
      "⎡6 ⎤\n",
      "⎢  ⎥\n",
      "⎢14⎥\n",
      "⎢  ⎥\n",
      "⎣6 ⎦\n"
     ]
    }
   ],
   "source": [
    "print(\"M * N\")\n",
    "pprint(M*N)"
   ]
  },
  {
   "cell_type": "markdown",
   "metadata": {},
   "source": [
    "---\n",
    "## SymPy plotting\n",
    "---"
   ]
  },
  {
   "cell_type": "code",
   "execution_count": 75,
   "metadata": {},
   "outputs": [
    {
     "data": {
      "text/plain": [
       "<Figure size 640x480 with 1 Axes>"
      ]
     },
     "metadata": {},
     "output_type": "display_data"
    },
    {
     "data": {
      "text/plain": [
       "<sympy.plotting.plot.Plot at 0x2b1d1602ee90>"
      ]
     },
     "execution_count": 75,
     "metadata": {},
     "output_type": "execute_result"
    }
   ],
   "source": [
    "import sympy\n",
    "from sympy.abc import x\n",
    "from sympy.plotting import plot\n",
    "\n",
    "plot(1/x)"
   ]
  }
 ],
 "metadata": {
  "kernelspec": {
   "display_name": "Python 3",
   "language": "python",
   "name": "python3"
  },
  "language_info": {
   "codemirror_mode": {
    "name": "ipython",
    "version": 3
   },
   "file_extension": ".py",
   "mimetype": "text/x-python",
   "name": "python",
   "nbconvert_exporter": "python",
   "pygments_lexer": "ipython3",
   "version": "3.7.4"
  }
 },
 "nbformat": 4,
 "nbformat_minor": 4
}
