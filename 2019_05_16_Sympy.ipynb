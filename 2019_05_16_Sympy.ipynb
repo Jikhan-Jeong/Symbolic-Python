{
  "nbformat": 4,
  "nbformat_minor": 0,
  "metadata": {
    "colab": {
      "name": "2019_05_16_Sympy.ipynb",
      "version": "0.3.2",
      "provenance": [],
      "collapsed_sections": [],
      "include_colab_link": true
    },
    "kernelspec": {
      "name": "python3",
      "display_name": "Python 3"
    }
  },
  "cells": [
    {
      "cell_type": "markdown",
      "metadata": {
        "id": "view-in-github",
        "colab_type": "text"
      },
      "source": [
        "<a href=\"https://colab.research.google.com/github/jikhans/Symbolic-Python/blob/master/2019_05_16_Sympy.ipynb\" target=\"_parent\"><img src=\"https://colab.research.google.com/assets/colab-badge.svg\" alt=\"Open In Colab\"/></a>"
      ]
    },
    {
      "cell_type": "markdown",
      "metadata": {
        "id": "uHR8ypBXgfRJ",
        "colab_type": "text"
      },
      "source": [
        "* **2019_05_16 Symbolic Python**\n",
        "\n",
        "Spyder is not proper to use Sympy so I use Jupter or Colab \n",
        "\n",
        "Also, the outcome should be in the print() \n",
        "\n",
        "download from : https://docs.sympy.org/latest/install.html\n",
        "\n",
        "prompt : conda update sympy\n",
        "\n",
        "reference: https://www.southampton.ac.uk/~fangohr/teaching/python/book/html/12-symbolic-computation.html\n",
        "\n",
        "colab short-key: https://programmers.co.kr/learn/courses/21/lessons/11050\n",
        "\n",
        "Ctrl+m,b: new cell in the bottom\n",
        "\n",
        "Ctrl+m,i: stop running cel\n",
        "\n",
        "Ctrl+m,h:all short-cut key\n",
        "\n",
        "Ctrt+Shift+A: select all\n",
        "\n",
        "Ctrl+Shift+Enter: Run selected line only"
      ]
    },
    {
      "cell_type": "code",
      "metadata": {
        "id": "MCVyCGD0gngf",
        "colab_type": "code",
        "outputId": "29fc935d-0fa2-44ab-96ef-89c87d5960da",
        "colab": {
          "base_uri": "https://localhost:8080/",
          "height": 35
        }
      },
      "source": [
        "import sympy\n",
        "from sympy import Symbol\n",
        "from sympy import *\n",
        "init_printing(use_latex='matplotlib')\n",
        "# one by one \n",
        "# init_printing(use_latex=False)\n",
        "\n",
        "x = Symbol('x')\n",
        "type(x)"
      ],
      "execution_count": 0,
      "outputs": [
        {
          "output_type": "execute_result",
          "data": {
            "text/plain": [
              "sympy.core.symbol.Symbol"
            ]
          },
          "metadata": {
            "tags": []
          },
          "execution_count": 35
        }
      ]
    },
    {
      "cell_type": "code",
      "metadata": {
        "id": "Ntco6Gdgitnb",
        "colab_type": "code",
        "outputId": "eda8e9c2-1317-4667-faa2-63dff05ad8ee",
        "colab": {
          "base_uri": "https://localhost:8080/",
          "height": 34
        }
      },
      "source": [
        "y = Symbol('y')\n",
        "2 * x - x"
      ],
      "execution_count": 0,
      "outputs": [
        {
          "output_type": "execute_result",
          "data": {
            "image/png": "[encoded data removed]",
            "text/plain": [
              "x"
            ]
          },
          "metadata": {
            "tags": []
          },
          "execution_count": 9
        }
      ]
    },
    {
      "cell_type": "code",
      "metadata": {
        "id": "nSENlPPoiuwM",
        "colab_type": "code",
        "outputId": "ba05d996-6fe4-436e-c3f9-980fcc6a6bc9",
        "colab": {
          "base_uri": "https://localhost:8080/",
          "height": 40
        }
      },
      "source": [
        "integrate(1/x, x)"
      ],
      "execution_count": 0,
      "outputs": [
        {
          "output_type": "execute_result",
          "data": {
            "image/png": "[encoded data removed]",
            "text/plain": [
              "log(x)"
            ]
          },
          "metadata": {
            "tags": []
          },
          "execution_count": 10
        }
      ]
    },
    {
      "cell_type": "code",
      "metadata": {
        "id": "RNZ3Vw9djELE",
        "colab_type": "code",
        "outputId": "9cc2719b-263b-43f6-b853-a4c0b4c264cb",
        "colab": {
          "base_uri": "https://localhost:8080/",
          "height": 39
        }
      },
      "source": [
        "x + y + x +10*y"
      ],
      "execution_count": 0,
      "outputs": [
        {
          "output_type": "execute_result",
          "data": {
            "image/png": "[encoded data removed]",
            "text/plain": [
              "2⋅x + 11⋅y"
            ]
          },
          "metadata": {
            "tags": []
          },
          "execution_count": 11
        }
      ]
    },
    {
      "cell_type": "code",
      "metadata": {
        "id": "2Ed92lNEhK4x",
        "colab_type": "code",
        "outputId": "eedb1959-77b6-490f-a5b2-579fd9efece8",
        "colab": {
          "base_uri": "https://localhost:8080/",
          "height": 39
        }
      },
      "source": [
        "x, y, z = sympy.symbols('x,y,z')\n",
        "x + 2*y + 3*z - x\n"
      ],
      "execution_count": 0,
      "outputs": [
        {
          "output_type": "execute_result",
          "data": {
            "image/png": "[encoded data removed]",
            "text/plain": [
              "2⋅y + 3⋅z"
            ]
          },
          "metadata": {
            "tags": []
          },
          "execution_count": 12
        }
      ]
    },
    {
      "cell_type": "code",
      "metadata": {
        "id": "_EqXNz7ZjOqT",
        "colab_type": "code",
        "outputId": "45f8b8a2-8bc7-44be-d2d7-15ec0750dedf",
        "colab": {
          "base_uri": "https://localhost:8080/",
          "height": 35
        }
      },
      "source": [
        "(x + 2*y).subs(x, 10).subs(y, 3)"
      ],
      "execution_count": 0,
      "outputs": [
        {
          "output_type": "execute_result",
          "data": {
            "image/png": "[encoded data removed]",
            "text/plain": [
              "16"
            ]
          },
          "metadata": {
            "tags": []
          },
          "execution_count": 13
        }
      ]
    },
    {
      "cell_type": "code",
      "metadata": {
        "id": "fjFU6e1djSjF",
        "colab_type": "code",
        "outputId": "89d1d04f-62d6-4882-fdb1-3593af77f821",
        "colab": {
          "base_uri": "https://localhost:8080/",
          "height": 43
        }
      },
      "source": [
        "myterm =3*x + y**2\n",
        "myterm"
      ],
      "execution_count": 0,
      "outputs": [
        {
          "output_type": "execute_result",
          "data": {
            "image/png": "[encoded data removed]",
            "text/plain": [
              "       2\n",
              "3⋅x + y "
            ]
          },
          "metadata": {
            "tags": []
          },
          "execution_count": 14
        }
      ]
    },
    {
      "cell_type": "markdown",
      "metadata": {
        "id": "Pc1j6q0djiXg",
        "colab_type": "text"
      },
      "source": [
        "* Numeric Type\n",
        "\n",
        "SymPy has the numeric types Rational and RealNumber. The Rational class represents a rational number as a pair of two integers: the numerator and the denominator, so Rational(1,2) represents 1/2, Rational(5,2) represents 5/2 and so on\n"
      ]
    },
    {
      "cell_type": "code",
      "metadata": {
        "id": "WHPrwqZPjt9T",
        "colab_type": "code",
        "outputId": "54dce309-c24c-4736-faa3-f691e92334f1",
        "colab": {
          "base_uri": "https://localhost:8080/",
          "height": 37
        }
      },
      "source": [
        "from sympy import Rational\n",
        "a = Rational(1, 10)\n",
        "a"
      ],
      "execution_count": 0,
      "outputs": [
        {
          "output_type": "execute_result",
          "data": {
            "image/png": "[encoded data removed]",
            "text/plain": [
              "1/10"
            ]
          },
          "metadata": {
            "tags": []
          },
          "execution_count": 15
        }
      ]
    },
    {
      "cell_type": "code",
      "metadata": {
        "id": "wHdJln9AkRZG",
        "colab_type": "code",
        "outputId": "3c8c201d-34c8-43ea-e918-69a268c71aa5",
        "colab": {
          "base_uri": "https://localhost:8080/",
          "height": 37
        }
      },
      "source": [
        "b = Rational(45,67)\n",
        "b"
      ],
      "execution_count": 0,
      "outputs": [
        {
          "output_type": "execute_result",
          "data": {
            "image/png": "[encoded data removed]",
            "text/plain": [
              "45\n",
              "──\n",
              "67"
            ]
          },
          "metadata": {
            "tags": []
          },
          "execution_count": 16
        }
      ]
    },
    {
      "cell_type": "code",
      "metadata": {
        "id": "Icnzv29kMRML",
        "colab_type": "code",
        "outputId": "034bf773-e642-46cf-be23-4f753e99acda",
        "colab": {
          "base_uri": "https://localhost:8080/",
          "height": 35
        }
      },
      "source": [
        "a*b"
      ],
      "execution_count": 0,
      "outputs": [
        {
          "output_type": "execute_result",
          "data": {
            "text/plain": [
              "9/134"
            ]
          },
          "metadata": {
            "tags": []
          },
          "execution_count": 19
        }
      ]
    },
    {
      "cell_type": "code",
      "metadata": {
        "id": "_VLfb82-Mgvb",
        "colab_type": "code",
        "outputId": "cf33bf8e-c362-4225-99d0-511f09247777",
        "colab": {
          "base_uri": "https://localhost:8080/",
          "height": 71
        }
      },
      "source": [
        "a-b"
      ],
      "execution_count": 0,
      "outputs": [
        {
          "output_type": "execute_result",
          "data": {
            "text/plain": [
              "-383 \n",
              "─────\n",
              " 670 "
            ]
          },
          "metadata": {
            "tags": []
          },
          "execution_count": 21
        }
      ]
    },
    {
      "cell_type": "markdown",
      "metadata": {
        "id": "RyvU1MNnMuo3",
        "colab_type": "text"
      },
      "source": [
        "Note that the Rational class works with rational expressions exactly. This is in contrast to Python’s standard float data type which uses floating point representation to approximate (rational) numbers.\n",
        "\n",
        "We can convert the sympy.Rational type into a Python floating point variable using float or the evalf method of the Rational object. The evalf method can take an argument that specifies how many digits should be computed for the floating point approximation (not all of those may be used by Python’s floating point type of course)."
      ]
    },
    {
      "cell_type": "code",
      "metadata": {
        "id": "3mVZN0w6Mmtm",
        "colab_type": "code",
        "outputId": "0bd17304-e034-471f-e733-2b14fc7bab6d",
        "colab": {
          "base_uri": "https://localhost:8080/",
          "height": 35
        }
      },
      "source": [
        "c = Rational(2,3)\n",
        "c"
      ],
      "execution_count": 0,
      "outputs": [
        {
          "output_type": "execute_result",
          "data": {
            "text/plain": [
              "2/3"
            ]
          },
          "metadata": {
            "tags": []
          },
          "execution_count": 25
        }
      ]
    },
    {
      "cell_type": "code",
      "metadata": {
        "id": "LpneaRL0M2-r",
        "colab_type": "code",
        "outputId": "6a6d37b4-dddc-454b-80e2-71fc75e0699e",
        "colab": {
          "base_uri": "https://localhost:8080/",
          "height": 35
        }
      },
      "source": [
        "float(c)"
      ],
      "execution_count": 0,
      "outputs": [
        {
          "output_type": "execute_result",
          "data": {
            "text/plain": [
              "0.6666666666666666"
            ]
          },
          "metadata": {
            "tags": []
          },
          "execution_count": 23
        }
      ]
    },
    {
      "cell_type": "code",
      "metadata": {
        "id": "ohsIuB1kM5IW",
        "colab_type": "code",
        "outputId": "a3ec6fb0-0f94-451c-b985-a09dde681f92",
        "colab": {
          "base_uri": "https://localhost:8080/",
          "height": 35
        }
      },
      "source": [
        "c.evalf()"
      ],
      "execution_count": 0,
      "outputs": [
        {
          "output_type": "execute_result",
          "data": {
            "text/plain": [
              "0.666666666666667"
            ]
          },
          "metadata": {
            "tags": []
          },
          "execution_count": 28
        }
      ]
    },
    {
      "cell_type": "code",
      "metadata": {
        "id": "HOL-Yd47Nk0z",
        "colab_type": "code",
        "outputId": "41ea8f4d-a13d-4f78-9454-75a221485997",
        "colab": {
          "base_uri": "https://localhost:8080/",
          "height": 35
        }
      },
      "source": [
        "c.evalf(10)"
      ],
      "execution_count": 0,
      "outputs": [
        {
          "output_type": "execute_result",
          "data": {
            "text/plain": [
              "0.6666666667"
            ]
          },
          "metadata": {
            "tags": []
          },
          "execution_count": 29
        }
      ]
    },
    {
      "cell_type": "markdown",
      "metadata": {
        "id": "7NxxZEieNuq0",
        "colab_type": "text"
      },
      "source": [
        "* Differentiation and Integration"
      ]
    },
    {
      "cell_type": "code",
      "metadata": {
        "id": "d4zE7nZgNx0c",
        "colab_type": "code",
        "outputId": "a15d7fbc-4897-4947-fce8-ffd71ddf834c",
        "colab": {
          "base_uri": "https://localhost:8080/",
          "height": 35
        }
      },
      "source": [
        "from sympy import Symbol, exp, sin, sqrt, diff\n",
        "x = Symbol('x')\n",
        "y = Symbol('y')\n",
        "diff(sin(x),x) # diffretiation by x"
      ],
      "execution_count": 0,
      "outputs": [
        {
          "output_type": "execute_result",
          "data": {
            "text/plain": [
              "cos(x)"
            ]
          },
          "metadata": {
            "tags": []
          },
          "execution_count": 32
        }
      ]
    },
    {
      "cell_type": "code",
      "metadata": {
        "id": "OSAuqwAFN9lm",
        "colab_type": "code",
        "outputId": "1c8f87d0-f911-4d07-f1f2-49edc03f1737",
        "colab": {
          "base_uri": "https://localhost:8080/",
          "height": 35
        }
      },
      "source": [
        "diff(sin(x),y)  # diffretiation by x"
      ],
      "execution_count": 0,
      "outputs": [
        {
          "output_type": "execute_result",
          "data": {
            "text/plain": [
              "0"
            ]
          },
          "metadata": {
            "tags": []
          },
          "execution_count": 33
        }
      ]
    },
    {
      "cell_type": "code",
      "metadata": {
        "id": "VHL_WjIjOE41",
        "colab_type": "code",
        "outputId": "97e38ee5-74bc-4683-fc5a-53ef0f3cb580",
        "colab": {
          "base_uri": "https://localhost:8080/",
          "height": 43
        }
      },
      "source": [
        "10 + 3*x + 4*y + 10*x**2 + x**9"
      ],
      "execution_count": 0,
      "outputs": [
        {
          "output_type": "execute_result",
          "data": {
            "image/png": "[encoded data removed]",
            "text/plain": [
              " 9       2                 \n",
              "x  + 10⋅x  + 3⋅x + 4⋅y + 10"
            ]
          },
          "metadata": {
            "tags": []
          },
          "execution_count": 36
        }
      ]
    },
    {
      "cell_type": "code",
      "metadata": {
        "id": "fo6TG0NvOWUD",
        "colab_type": "code",
        "outputId": "2954fed6-7f75-4c0b-e664-496939b67d06",
        "colab": {
          "base_uri": "https://localhost:8080/",
          "height": 39
        }
      },
      "source": [
        "diff(10 + 3*x + 4*y + 10*x**2 + x**9, x)"
      ],
      "execution_count": 0,
      "outputs": [
        {
          "output_type": "execute_result",
          "data": {
            "image/png": "[encoded data removed]",
            "text/plain": [
              "   8           \n",
              "9⋅x  + 20⋅x + 3"
            ]
          },
          "metadata": {
            "tags": []
          },
          "execution_count": 37
        }
      ]
    },
    {
      "cell_type": "code",
      "metadata": {
        "id": "U7W5RsnzOYy7",
        "colab_type": "code",
        "outputId": "9bc370b8-9c21-480d-937c-8f8ff023cb9d",
        "colab": {
          "base_uri": "https://localhost:8080/",
          "height": 35
        }
      },
      "source": [
        "diff(10 + 3*x + 4*y + 10*x**2 + x**9, x).subs(x,1)"
      ],
      "execution_count": 0,
      "outputs": [
        {
          "output_type": "execute_result",
          "data": {
            "image/png": "[encoded data removed]",
            "text/plain": [
              "32"
            ]
          },
          "metadata": {
            "tags": []
          },
          "execution_count": 38
        }
      ]
    },
    {
      "cell_type": "code",
      "metadata": {
        "id": "OphP0P04OcpH",
        "colab_type": "code",
        "outputId": "e3c49f00-1c0d-4eb4-ea62-4155ca01c8ec",
        "colab": {
          "base_uri": "https://localhost:8080/",
          "height": 37
        }
      },
      "source": [
        "diff(exp(x),x)"
      ],
      "execution_count": 0,
      "outputs": [
        {
          "output_type": "execute_result",
          "data": {
            "image/png": "[encoded data removed]",
            "text/plain": [
              " x\n",
              "ℯ "
            ]
          },
          "metadata": {
            "tags": []
          },
          "execution_count": 39
        }
      ]
    },
    {
      "cell_type": "code",
      "metadata": {
        "id": "zh_co1GMOgJW",
        "colab_type": "code",
        "outputId": "e3e35ed6-6354-4e27-a946-1a356f617c5b",
        "colab": {
          "base_uri": "https://localhost:8080/",
          "height": 44
        }
      },
      "source": [
        "diff(exp(-x**2/2),x)"
      ],
      "execution_count": 0,
      "outputs": [
        {
          "output_type": "execute_result",
          "data": {
            "image/png": "[encoded data removed]",
            "text/plain": [
              "      2 \n",
              "    -x  \n",
              "    ────\n",
              "     2  \n",
              "-x⋅ℯ    "
            ]
          },
          "metadata": {
            "tags": []
          },
          "execution_count": 40
        }
      ]
    },
    {
      "cell_type": "code",
      "metadata": {
        "id": "sdR-ryheOrh6",
        "colab_type": "code",
        "outputId": "9203edf1-6632-4cc6-c1fe-657172d0334b",
        "colab": {
          "base_uri": "https://localhost:8080/",
          "height": 39
        }
      },
      "source": [
        "diff(3*x**4, x)"
      ],
      "execution_count": 0,
      "outputs": [
        {
          "output_type": "execute_result",
          "data": {
            "image/png": "[encoded data removed]",
            "text/plain": [
              "    3\n",
              "12⋅x "
            ]
          },
          "metadata": {
            "tags": []
          },
          "execution_count": 41
        }
      ]
    },
    {
      "cell_type": "code",
      "metadata": {
        "id": "AXioHBe3PBlg",
        "colab_type": "code",
        "outputId": "7e64b243-1829-4a0c-8b5d-ff0fed9a3f8f",
        "colab": {
          "base_uri": "https://localhost:8080/",
          "height": 39
        }
      },
      "source": [
        "diff(3*x**4,x,x)"
      ],
      "execution_count": 0,
      "outputs": [
        {
          "output_type": "execute_result",
          "data": {
            "image/png": "[encoded data removed]",
            "text/plain": [
              "    2\n",
              "36⋅x "
            ]
          },
          "metadata": {
            "tags": []
          },
          "execution_count": 42
        }
      ]
    },
    {
      "cell_type": "code",
      "metadata": {
        "id": "KmWNNDihPbg2",
        "colab_type": "code",
        "outputId": "38ef1350-ccbb-4e34-ee0f-cea57348fe8e",
        "colab": {
          "base_uri": "https://localhost:8080/",
          "height": 35
        }
      },
      "source": [
        "r = sqrt(x**2+y**2)\n",
        "sigma = Symbol('var')\n",
        "def phi(x,y,sigam):\n",
        "  return sqrt(x**2 + y**2 + sigma **2)\n",
        "\n",
        "mydfdx = x /sqrt(r**2 + sigma**2)\n",
        "print(diff(phi(x,y,sigma),x))"
      ],
      "execution_count": 0,
      "outputs": [
        {
          "output_type": "stream",
          "text": [
            "x/sqrt(var**2 + x**2 + y**2)\n"
          ],
          "name": "stdout"
        }
      ]
    },
    {
      "cell_type": "markdown",
      "metadata": {
        "id": "XdyeGfulQFRE",
        "colab_type": "text"
      },
      "source": [
        "* integrate"
      ]
    },
    {
      "cell_type": "code",
      "metadata": {
        "id": "Zwc6IhinTL0n",
        "colab_type": "code",
        "outputId": "d09185ba-44df-437d-a4de-dbb0506e1b9d",
        "colab": {
          "base_uri": "https://localhost:8080/",
          "height": 41
        }
      },
      "source": [
        "from sympy import integrate\n",
        "integrate(x**2, x)"
      ],
      "execution_count": 0,
      "outputs": [
        {
          "output_type": "execute_result",
          "data": {
            "image/png": "[encoded data removed]",
            "text/plain": [
              " 3\n",
              "x \n",
              "──\n",
              "3 "
            ]
          },
          "metadata": {
            "tags": []
          },
          "execution_count": 45
        }
      ]
    },
    {
      "cell_type": "code",
      "metadata": {
        "id": "bdSBdIFmTSa9",
        "colab_type": "code",
        "outputId": "552fa743-404f-459c-b746-218a86df459d",
        "colab": {
          "base_uri": "https://localhost:8080/",
          "height": 36
        }
      },
      "source": [
        "integrate(x,y)"
      ],
      "execution_count": 0,
      "outputs": [
        {
          "output_type": "execute_result",
          "data": {
            "image/png": "[encoded data removed]",
            "text/plain": [
              "x⋅y"
            ]
          },
          "metadata": {
            "tags": []
          },
          "execution_count": 46
        }
      ]
    },
    {
      "cell_type": "code",
      "metadata": {
        "id": "de0Lq3DrTX7S",
        "colab_type": "code",
        "outputId": "dbfe1e1f-69f9-43ce-8047-925e258fcae9",
        "colab": {
          "base_uri": "https://localhost:8080/",
          "height": 38
        }
      },
      "source": [
        "integrate(sin(x),x)"
      ],
      "execution_count": 0,
      "outputs": [
        {
          "output_type": "execute_result",
          "data": {
            "image/png": "[encoded data removed]",
            "text/plain": [
              "-cos(x)"
            ]
          },
          "metadata": {
            "tags": []
          },
          "execution_count": 47
        }
      ]
    },
    {
      "cell_type": "code",
      "metadata": {
        "id": "VwfcMJmBTcjH",
        "colab_type": "code",
        "outputId": "3f6dc9f6-4dc4-4b92-fdd7-674a7c3e8753",
        "colab": {
          "base_uri": "https://localhost:8080/",
          "height": 44
        }
      },
      "source": [
        "integrate(-x*exp(-x**2/2),x)"
      ],
      "execution_count": 0,
      "outputs": [
        {
          "output_type": "execute_result",
          "data": {
            "image/png": "[encoded data removed]",
            "text/plain": [
              "   2 \n",
              " -x  \n",
              " ────\n",
              "  2  \n",
              "ℯ    "
            ]
          },
          "metadata": {
            "tags": []
          },
          "execution_count": 48
        }
      ]
    },
    {
      "cell_type": "markdown",
      "metadata": {
        "id": "tWFOkG9cTxWs",
        "colab_type": "text"
      },
      "source": [
        "We can calculate definite integrals by providing integrate() with a tuple containing the variable of interest, the lower and the upper bounds. If several variables are specified, multiple integration is performed. "
      ]
    },
    {
      "cell_type": "code",
      "metadata": {
        "id": "Jdbjr1t1TyzJ",
        "colab_type": "code",
        "outputId": "24d02f46-67bc-4c01-8506-90e8c9c68278",
        "colab": {
          "base_uri": "https://localhost:8080/",
          "height": 35
        }
      },
      "source": [
        "integrate(x*2, (x,0,1))"
      ],
      "execution_count": 0,
      "outputs": [
        {
          "output_type": "execute_result",
          "data": {
            "image/png": "[encoded data removed]",
            "text/plain": [
              "1"
            ]
          },
          "metadata": {
            "tags": []
          },
          "execution_count": 49
        }
      ]
    },
    {
      "cell_type": "code",
      "metadata": {
        "id": "k_-YgQxaT6xQ",
        "colab_type": "code",
        "outputId": "b14d519e-8647-4de2-c9ac-ef2422e00811",
        "colab": {
          "base_uri": "https://localhost:8080/",
          "height": 39
        }
      },
      "source": [
        "integrate(x**2, (x,0,2),(x,0,2),y)"
      ],
      "execution_count": 0,
      "outputs": [
        {
          "output_type": "execute_result",
          "data": {
            "image/png": "[encoded data removed]",
            "text/plain": [
              "16⋅y\n",
              "────\n",
              " 3  "
            ]
          },
          "metadata": {
            "tags": []
          },
          "execution_count": 50
        }
      ]
    },
    {
      "cell_type": "code",
      "metadata": {
        "id": "mvDtyE9DUF7S",
        "colab_type": "code",
        "outputId": "b87caff7-5503-460c-805f-a00049ab0836",
        "colab": {
          "base_uri": "https://localhost:8080/",
          "height": 37
        }
      },
      "source": [
        "integrate(x**2, (x,0,2),(x,0,2),(y,0,1))"
      ],
      "execution_count": 0,
      "outputs": [
        {
          "output_type": "execute_result",
          "data": {
            "image/png": "[encoded data removed]",
            "text/plain": [
              "16/3"
            ]
          },
          "metadata": {
            "tags": []
          },
          "execution_count": 51
        }
      ]
    },
    {
      "cell_type": "code",
      "metadata": {
        "id": "Ia2YJtrBUVZX",
        "colab_type": "code",
        "outputId": "55f65abb-b613-4b4e-90e7-90d4dc4cff4a",
        "colab": {
          "base_uri": "https://localhost:8080/",
          "height": 35
        }
      },
      "source": [
        "type(integrate(x**2, (x,0,2),(x,0,2),(y,0,1)))"
      ],
      "execution_count": 0,
      "outputs": [
        {
          "output_type": "execute_result",
          "data": {
            "text/plain": [
              "sympy.core.numbers.Rational"
            ]
          },
          "metadata": {
            "tags": []
          },
          "execution_count": 52
        }
      ]
    },
    {
      "cell_type": "code",
      "metadata": {
        "id": "RAF36vZLUaNJ",
        "colab_type": "code",
        "outputId": "3b9c5e94-baee-4641-b5cb-e437f66d21d6",
        "colab": {
          "base_uri": "https://localhost:8080/",
          "height": 35
        }
      },
      "source": [
        "result = integrate(x**2, (x,0,2))\n",
        "result.evalf()"
      ],
      "execution_count": 0,
      "outputs": [
        {
          "output_type": "execute_result",
          "data": {
            "image/png": "[encoded data removed]",
            "text/plain": [
              "2.66666666666667"
            ]
          },
          "metadata": {
            "tags": []
          },
          "execution_count": 55
        }
      ]
    },
    {
      "cell_type": "code",
      "metadata": {
        "id": "pQWFqx6PUkS3",
        "colab_type": "code",
        "outputId": "c8779ff8-9c53-4e62-eb0a-5760d7acd25c",
        "colab": {
          "base_uri": "https://localhost:8080/",
          "height": 35
        }
      },
      "source": [
        "result.evalf(3)"
      ],
      "execution_count": 0,
      "outputs": [
        {
          "output_type": "execute_result",
          "data": {
            "image/png": "[encoded data removed]",
            "text/plain": [
              "2.67"
            ]
          },
          "metadata": {
            "tags": []
          },
          "execution_count": 56
        }
      ]
    },
    {
      "cell_type": "markdown",
      "metadata": {
        "id": "qfkfz_m0Usth",
        "colab_type": "text"
      },
      "source": [
        "**Ordinary differential equations**\n",
        "SymPy has inbuilt support for solving several kinds of ordinary differential equation via its dsolve command. We need to set up the ODE and pass it as the first argument, eq. \n",
        "\n",
        "The second argument is the function f(x) to solve for. An optional third argument, hint, influences the method that dsolve uses: some methods are better-suited to certain classes of ODEs, or will express the solution more simply, than others.\n",
        "\n",
        "To set up the ODE solver, we need a way to refer to the unknown function for which we are solving, as well as its derivatives. The Function and Derivative classes facilitate this:\n",
        "\n",
        "\n",
        "ODE : https://ko.wikipedia.org/wiki/%EC%83%81%EB%AF%B8%EB%B6%84%EB%B0%A9%EC%A0%95%EC%8B%9D"
      ]
    },
    {
      "cell_type": "code",
      "metadata": {
        "id": "cpvBt4gVUv59",
        "colab_type": "code",
        "colab": {}
      },
      "source": [
        "from sympy import Symbol, dsolve, Function, Derivative, Eq\n",
        "y = Function(\"y\")\n",
        "x = Symbol('x')"
      ],
      "execution_count": 0,
      "outputs": []
    },
    {
      "cell_type": "code",
      "metadata": {
        "id": "k8QTU872VJt0",
        "colab_type": "code",
        "outputId": "d43280b0-f044-492d-e67b-9588f0b6d140",
        "colab": {
          "base_uri": "https://localhost:8080/",
          "height": 50
        }
      },
      "source": [
        "y_ = Derivative(y(x),x) # d Y(x)/dx\n",
        "y_"
      ],
      "execution_count": 0,
      "outputs": [
        {
          "output_type": "execute_result",
          "data": {
            "image/png": "[encoded data removed]",
            "text/plain": [
              "d       \n",
              "──(y(x))\n",
              "dx      "
            ]
          },
          "metadata": {
            "tags": []
          },
          "execution_count": 60
        }
      ]
    },
    {
      "cell_type": "code",
      "metadata": {
        "id": "OQDQ7gz4VZXR",
        "colab_type": "code",
        "outputId": "faf35e80-499c-4851-e896-f7ae88adf382",
        "colab": {
          "base_uri": "https://localhost:8080/",
          "height": 50
        }
      },
      "source": [
        "y_ + 5*y(x)"
      ],
      "execution_count": 0,
      "outputs": [
        {
          "output_type": "execute_result",
          "data": {
            "image/png": "[encoded data removed]",
            "text/plain": [
              "         d       \n",
              "5⋅y(x) + ──(y(x))\n",
              "         dx      "
            ]
          },
          "metadata": {
            "tags": []
          },
          "execution_count": 61
        }
      ]
    },
    {
      "cell_type": "markdown",
      "metadata": {
        "id": "E-0w0p5hYsGb",
        "colab_type": "text"
      },
      "source": [
        "Skip ODE because I don't know and usually not only single variable problem in the economics\n",
        "\n",
        "* **Series expansions and plotting**\n",
        "\n",
        "It is possible to expand many SymPy expressions as Taylor series. The series method makes this straightforward. At minimum, we must specify the expression and the variable in which to expand it. Optionally, we can also specify the point around which to expand, the maximum term number, and the direction of the expansion (try help(Basic.series) for more information)."
      ]
    },
    {
      "cell_type": "code",
      "metadata": {
        "colab_type": "code",
        "id": "y-xhD5GXXjUC",
        "outputId": "9a1dbd05-a540-4a82-f10d-4a6f62c7338d",
        "colab": {
          "base_uri": "https://localhost:8080/",
          "height": 41
        }
      },
      "source": [
        "from sympy import *\n",
        "x = Symbol('x')\n",
        "sin(x).series(x, 0)"
      ],
      "execution_count": 74,
      "outputs": [
        {
          "output_type": "execute_result",
          "data": {
            "image/png": "[encoded data removed]",
            "text/plain": [
              "     3     5        \n",
              "    x     x     ⎛ 6⎞\n",
              "x - ── + ─── + O⎝x ⎠\n",
              "    6    120        "
            ]
          },
          "metadata": {
            "tags": []
          },
          "execution_count": 74
        }
      ]
    },
    {
      "cell_type": "code",
      "metadata": {
        "id": "Mj-eqTEcYz1V",
        "colab_type": "code",
        "colab": {
          "base_uri": "https://localhost:8080/",
          "height": 41
        },
        "outputId": "3a402297-39d8-4529-c003-af1e9664c44c"
      },
      "source": [
        "cos(x).series(x,0)"
      ],
      "execution_count": 75,
      "outputs": [
        {
          "output_type": "execute_result",
          "data": {
            "image/png": "[encoded data removed]",
            "text/plain": [
              "     2    4        \n",
              "    x    x     ⎛ 6⎞\n",
              "1 - ── + ── + O⎝x ⎠\n",
              "    2    24        "
            ]
          },
          "metadata": {
            "tags": []
          },
          "execution_count": 75
        }
      ]
    },
    {
      "cell_type": "code",
      "metadata": {
        "id": "hgShgKgDY6UR",
        "colab_type": "code",
        "colab": {
          "base_uri": "https://localhost:8080/",
          "height": 41
        },
        "outputId": "d966f3f8-b335-4d17-e65b-072dc29e30ae"
      },
      "source": [
        "cos(x).series(x,0,7)"
      ],
      "execution_count": 77,
      "outputs": [
        {
          "output_type": "execute_result",
          "data": {
            "image/png": "[encoded data removed]",
            "text/plain": [
              "     2    4     6        \n",
              "    x    x     x     ⎛ 7⎞\n",
              "1 - ── + ── - ─── + O⎝x ⎠\n",
              "    2    24   720        "
            ]
          },
          "metadata": {
            "tags": []
          },
          "execution_count": 77
        }
      ]
    },
    {
      "cell_type": "markdown",
      "metadata": {
        "id": "0tDhml9sZuP7",
        "colab_type": "text"
      },
      "source": [
        "SymPy provides two inbuilt plotting functions, Plot() from the sympy.plotting module, and plot from sympy.mpmath.visualization. At the time of writing, these functions lack the ability to add a key to the plot, which means they are unsuitable for most of our needs. Should you wish to use them nevertheless, their help() text is useful.\n",
        "\n",
        "For most of our purposes, Matplotlib should be the plotting tool of choice. The details are in chapter [cha:visualisingdata]. Here we furnish just one example of how to plot the results of a SymPy computation."
      ]
    },
    {
      "cell_type": "code",
      "metadata": {
        "id": "g70u6VxxZwxj",
        "colab_type": "code",
        "colab": {
          "base_uri": "https://localhost:8080/",
          "height": 53
        },
        "outputId": "0dff4305-5259-4d10-cf52-9abc2432d161"
      },
      "source": [
        "%matplotlib inline\n",
        "from sympy import sin,series,Symbol\n",
        "import pylab\n",
        "x = Symbol('x')\n",
        "s10 = sin(x).series(x,0,10).removeO()\n",
        "s20 = sin(x).series(x,0,20).removeO()\n",
        "s = sin(x)\n",
        "xx = []\n",
        "y10 = []\n",
        "y20 = []\n",
        "y = []\n",
        "for i in range(1000):\n",
        "  xx.append(i / 100.0)\n",
        "  y10.append(float(s10.subs({x:i/100.0})))\n",
        "  y20.append(float(s20.subs({x:i/100.0})))\n",
        "  y.append(float(s.subs({x:i/100.0})))\n",
        "\n",
        "pylab.figure()"
      ],
      "execution_count": 80,
      "outputs": [
        {
          "output_type": "execute_result",
          "data": {
            "text/plain": [
              "<Figure size 432x288 with 0 Axes>"
            ]
          },
          "metadata": {
            "tags": []
          },
          "execution_count": 80
        },
        {
          "output_type": "display_data",
          "data": {
            "text/plain": [
              "<Figure size 432x288 with 0 Axes>"
            ]
          },
          "metadata": {
            "tags": []
          }
        }
      ]
    },
    {
      "cell_type": "code",
      "metadata": {
        "id": "fFc3UJ7haAvV",
        "colab_type": "code",
        "colab": {
          "base_uri": "https://localhost:8080/",
          "height": 301
        },
        "outputId": "9e2d9b83-19c6-446a-aa5a-04b62c275771"
      },
      "source": [
        "pylab.plot(xx, y10, label='O(10)')\n",
        "pylab.plot(xx, y20, label='O(20)')\n",
        "pylab.plot(xx, y, label='sin(x)')\n",
        "\n",
        "pylab.axis([0, 10, -4, 4])\n",
        "pylab.xlabel('x')\n",
        "pylab.ylabel('f(x)')\n",
        "\n",
        "pylab.legend()"
      ],
      "execution_count": 81,
      "outputs": [
        {
          "output_type": "execute_result",
          "data": {
            "text/plain": [
              "<matplotlib.legend.Legend at 0x7fab370ad2b0>"
            ]
          },
          "metadata": {
            "tags": []
          },
          "execution_count": 81
        },
        {
          "output_type": "display_data",
          "data": {
            "image/png": "[encoded data removed]",
            "text/plain": [
              "<Figure size 432x288 with 1 Axes>"
            ]
          },
          "metadata": {
            "tags": []
          }
        }
      ]
    },
    {
      "cell_type": "markdown",
      "metadata": {
        "id": "i_aMd2C5aLNV",
        "colab_type": "text"
      },
      "source": [
        "* Linear equations and matrix inversion (to Do)\n",
        "\n",
        "reference: https://www.southampton.ac.uk/~fangohr/teaching/python/book/html/12-symbolic-computation.html"
      ]
    }
  ]
}