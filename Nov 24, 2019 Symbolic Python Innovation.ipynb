{
 "cells": [
  {
   "cell_type": "markdown",
   "metadata": {},
   "source": [
    "# Nov 24, 2019 Symbolic Python Innovation\n",
    "* Name: Jikhan Jeong\n",
    "* Nov 24, Green R&D Investment"
   ]
  },
  {
   "cell_type": "code",
   "execution_count": 2,
   "metadata": {},
   "outputs": [],
   "source": [
    "from sympy import *\n",
    "import math"
   ]
  },
  {
   "cell_type": "code",
   "execution_count": 3,
   "metadata": {},
   "outputs": [
    {
     "data": {
      "text/plain": [
       "(t, N, b)"
      ]
     },
     "execution_count": 3,
     "metadata": {},
     "output_type": "execute_result"
    }
   ],
   "source": [
    "t,N,b =symbols('t N b')\n",
    "t,N,b"
   ]
  },
  {
   "cell_type": "markdown",
   "metadata": {},
   "source": [
    "* **$\\bigstar$** Square is ** not ^ like latex"
   ]
  },
  {
   "cell_type": "code",
   "execution_count": 4,
   "metadata": {},
   "outputs": [
    {
     "data": {
      "text/latex": [
       "$\\displaystyle t^{2}$"
      ],
      "text/plain": [
       "t**2"
      ]
     },
     "execution_count": 4,
     "metadata": {},
     "output_type": "execute_result"
    }
   ],
   "source": [
    "t**2"
   ]
  },
  {
   "cell_type": "code",
   "execution_count": 5,
   "metadata": {},
   "outputs": [
    {
     "data": {
      "text/latex": [
       "$\\displaystyle - \\frac{t^{2}}{10} - t \\left(- \\frac{b t \\left(N - 1\\right)}{5} - \\frac{t}{5} + \\frac{1 - t}{N + 1}\\right) + \\frac{\\left(1 - t\\right)^{2}}{\\left(N + 1\\right)^{2}}$"
      ],
      "text/plain": [
       "-t**2/10 - t*(-b*t*(N - 1)/5 - t/5 + (1 - t)/(N + 1)) + (1 - t)**2/(N + 1)**2"
      ]
     },
     "execution_count": 5,
     "metadata": {},
     "output_type": "execute_result"
    }
   ],
   "source": [
    "qi = ((1-t)/(N+1))**2-t**2/10-t*((1-t)/(N+1)-t/5-b*(N-1)*(t/5))\n",
    "qi"
   ]
  },
  {
   "cell_type": "code",
   "execution_count": 6,
   "metadata": {},
   "outputs": [
    {
     "data": {
      "text/latex": [
       "$\\displaystyle \\frac{- \\frac{t^{2} \\left(N + 1\\right)^{2}}{10} + \\frac{t \\left(N + 1\\right) \\left(t \\left(N + 1\\right) \\left(b \\left(N - 1\\right) + 1\\right) + 5 t - 5\\right)}{5} + \\left(t - 1\\right)^{2}}{\\left(N + 1\\right)^{2}}$"
      ],
      "text/plain": [
       "(-t**2*(N + 1)**2/10 + t*(N + 1)*(t*(N + 1)*(b*(N - 1) + 1) + 5*t - 5)/5 + (t - 1)**2)/(N + 1)**2"
      ]
     },
     "execution_count": 6,
     "metadata": {},
     "output_type": "execute_result"
    }
   ],
   "source": [
    "simplify(qi)"
   ]
  },
  {
   "cell_type": "markdown",
   "metadata": {},
   "source": [
    "### innovation 1\n",
    "(1)= $ \\pi_{i}(z_{i},t)$"
   ]
  },
  {
   "cell_type": "code",
   "execution_count": 7,
   "metadata": {},
   "outputs": [
    {
     "data": {
      "text/latex": [
       "$\\displaystyle \\frac{2 N^{3} b t^{2} + 2 N^{2} b t^{2} + N^{2} t^{2} - 2 N b t^{2} + 12 N t^{2} - 10 N t - 2 b t^{2} + 21 t^{2} - 30 t + 10}{10 \\left(N + 1\\right)^{2}}$"
      ],
      "text/plain": [
       "(2*N**3*b*t**2 + 2*N**2*b*t**2 + N**2*t**2 - 2*N*b*t**2 + 12*N*t**2 - 10*N*t - 2*b*t**2 + 21*t**2 - 30*t + 10)/(10*(N + 1)**2)"
      ]
     },
     "execution_count": 7,
     "metadata": {},
     "output_type": "execute_result"
    }
   ],
   "source": [
    "simplify(factor(qi)) "
   ]
  },
  {
   "cell_type": "code",
   "execution_count": 8,
   "metadata": {},
   "outputs": [
    {
     "data": {
      "text/latex": [
       "$\\displaystyle \\frac{2 N^{3} b t^{2} + 2 N^{2} b t^{2} + N^{2} t^{2} - 2 N b t^{2} + 12 N t^{2} - 10 N t - 2 b t^{2} + 21 t^{2} - 30 t + 10}{10 \\left(N + 1\\right)^{2}}$"
      ],
      "text/plain": [
       "(2*N**3*b*t**2 + 2*N**2*b*t**2 + N**2*t**2 - 2*N*b*t**2 + 12*N*t**2 - 10*N*t - 2*b*t**2 + 21*t**2 - 30*t + 10)/(10*(N + 1)**2)"
      ]
     },
     "execution_count": 8,
     "metadata": {},
     "output_type": "execute_result"
    }
   ],
   "source": [
    "eq_1 = simplify(factor(qi)) \n",
    "eq_1"
   ]
  },
  {
   "cell_type": "markdown",
   "metadata": {},
   "source": [
    "### Innovation 2,3\n",
    "(2) $ N\\pi_{i}(z_{i},t)$  \n",
    "(3) W"
   ]
  },
  {
   "cell_type": "markdown",
   "metadata": {},
   "source": [
    "### (2) $ N\\pi_{i}(z_{i},t)$  "
   ]
  },
  {
   "cell_type": "code",
   "execution_count": 11,
   "metadata": {},
   "outputs": [
    {
     "data": {
      "text/latex": [
       "$\\displaystyle \\frac{N \\left(2 N^{3} b t^{2} + 2 N^{2} b t^{2} + N^{2} t^{2} - 2 N b t^{2} + 12 N t^{2} - 10 N t - 2 b t^{2} + 21 t^{2} - 30 t + 10\\right)}{10 \\left(N + 1\\right)^{2}}$"
      ],
      "text/plain": [
       "N*(2*N**3*b*t**2 + 2*N**2*b*t**2 + N**2*t**2 - 2*N*b*t**2 + 12*N*t**2 - 10*N*t - 2*b*t**2 + 21*t**2 - 30*t + 10)/(10*(N + 1)**2)"
      ]
     },
     "execution_count": 11,
     "metadata": {},
     "output_type": "execute_result"
    }
   ],
   "source": [
    "N*eq_1"
   ]
  },
  {
   "cell_type": "markdown",
   "metadata": {},
   "source": [
    "### (3) W"
   ]
  },
  {
   "cell_type": "code",
   "execution_count": 13,
   "metadata": {},
   "outputs": [
    {
     "data": {
      "text/latex": [
       "$\\displaystyle - N^{2} \\left(- \\frac{b t \\left(N - 1\\right)}{5} - \\frac{t}{5} + \\frac{1 - t}{N + 1}\\right)^{2} + \\frac{N \\left(2 N^{3} b t^{2} + 2 N^{2} b t^{2} + N^{2} t^{2} - 2 N b t^{2} + 12 N t^{2} - 10 N t - 2 b t^{2} + 21 t^{2} - 30 t + 10\\right)}{10 \\left(N + 1\\right)^{2}} + \\frac{0.5 \\left(- N t + N\\right)^{2}}{\\left(N + 1\\right)^{2}}$"
      ],
      "text/plain": [
       "-N**2*(-b*t*(N - 1)/5 - t/5 + (1 - t)/(N + 1))**2 + N*(2*N**3*b*t**2 + 2*N**2*b*t**2 + N**2*t**2 - 2*N*b*t**2 + 12*N*t**2 - 10*N*t - 2*b*t**2 + 21*t**2 - 30*t + 10)/(10*(N + 1)**2) + 0.5*(-N*t + N)**2/(N + 1)**2"
      ]
     },
     "execution_count": 13,
     "metadata": {},
     "output_type": "execute_result"
    }
   ],
   "source": [
    "W = 1/2*((N-N*t)/(N+1))**2 +N*eq_1 - (N*((1-t)/(N+1)-t/5-b*(N-1)*t/5))**2\n",
    "W"
   ]
  },
  {
   "cell_type": "code",
   "execution_count": 14,
   "metadata": {},
   "outputs": [
    {
     "data": {
      "text/latex": [
       "$\\displaystyle \\frac{N \\left(10 N^{3} b t^{2} + 10 N^{2} b t^{2} + 5 N^{2} t^{2} - 10 N b t^{2} + 60 N t^{2} - 50 N t + 25.0 N \\left(t - 1\\right)^{2} - 2 N \\left(t \\left(N + 1\\right) \\left(b \\left(N - 1\\right) + 1\\right) + 5 t - 5\\right)^{2} - 10 b t^{2} + 105 t^{2} - 150 t + 50\\right)}{50 \\left(N + 1\\right)^{2}}$"
      ],
      "text/plain": [
       "N*(10*N**3*b*t**2 + 10*N**2*b*t**2 + 5*N**2*t**2 - 10*N*b*t**2 + 60*N*t**2 - 50*N*t + 25.0*N*(t - 1)**2 - 2*N*(t*(N + 1)*(b*(N - 1) + 1) + 5*t - 5)**2 - 10*b*t**2 + 105*t**2 - 150*t + 50)/(50*(N + 1)**2)"
      ]
     },
     "execution_count": 14,
     "metadata": {},
     "output_type": "execute_result"
    }
   ],
   "source": [
    "eq_3 = simplify(W) \n",
    "eq_3"
   ]
  },
  {
   "cell_type": "code",
   "execution_count": 15,
   "metadata": {},
   "outputs": [
    {
     "data": {
      "text/latex": [
       "$\\displaystyle \\frac{N \\left(10 N^{3} b t^{2} + N^{2} \\left(10 b t^{2} + 5 t^{2}\\right) + N \\left(- 10 b t^{2} + 60 t^{2} - 50 t + 25.0 \\left(t - 1\\right)^{2} - 2 \\left(t \\left(N + 1\\right) \\left(b \\left(N - 1\\right) + 1\\right) + 5 t - 5\\right)^{2}\\right) - 10 b t^{2} + 105 t^{2} - 150 t + 50\\right)}{50 \\left(N + 1\\right)^{2}}$"
      ],
      "text/plain": [
       "N*(10*N**3*b*t**2 + N**2*(10*b*t**2 + 5*t**2) + N*(-10*b*t**2 + 60*t**2 - 50*t + 25.0*(t - 1)**2 - 2*(t*(N + 1)*(b*(N - 1) + 1) + 5*t - 5)**2) - 10*b*t**2 + 105*t**2 - 150*t + 50)/(50*(N + 1)**2)"
      ]
     },
     "execution_count": 15,
     "metadata": {},
     "output_type": "execute_result"
    }
   ],
   "source": [
    "collect(eq_3,N)"
   ]
  },
  {
   "cell_type": "code",
   "execution_count": 16,
   "metadata": {},
   "outputs": [
    {
     "data": {
      "text/latex": [
       "$\\displaystyle \\frac{N \\left(25.0 N \\left(t - 1\\right)^{2} - 2 N \\left(t \\left(\\left(N + 1\\right) \\left(b \\left(N - 1\\right) + 1\\right) + 5\\right) - 5\\right)^{2} + t^{2} \\left(10 N^{3} b + 10 N^{2} b + 5 N^{2} - 10 N b + 60 N - 10 b + 105\\right) + t \\left(- 50 N - 150\\right) + 50\\right)}{50 \\left(N + 1\\right)^{2}}$"
      ],
      "text/plain": [
       "N*(25.0*N*(t - 1)**2 - 2*N*(t*((N + 1)*(b*(N - 1) + 1) + 5) - 5)**2 + t**2*(10*N**3*b + 10*N**2*b + 5*N**2 - 10*N*b + 60*N - 10*b + 105) + t*(-50*N - 150) + 50)/(50*(N + 1)**2)"
      ]
     },
     "execution_count": 16,
     "metadata": {},
     "output_type": "execute_result"
    }
   ],
   "source": [
    "## This will be the answer for (3) to diff\n",
    "eq_3_final = collect(eq_3,t)\n",
    "eq_3_final"
   ]
  },
  {
   "cell_type": "code",
   "execution_count": 17,
   "metadata": {},
   "outputs": [
    {
     "data": {
      "text/latex": [
       "$\\displaystyle \\frac{N \\left(N \\left(25.0 \\left(t - 1\\right)^{2} - 2 \\left(t \\left(\\left(N + 1\\right) \\left(b \\left(N - 1\\right) + 1\\right) + 5\\right) - 5\\right)^{2}\\right) + t^{2} \\left(10 N^{3} b + N^{2} \\left(10 b + 5\\right) + N \\left(60 - 10 b\\right) - 10 b + 105\\right) + t \\left(- 50 N - 150\\right) + 50\\right)}{50 \\left(N + 1\\right)^{2}}$"
      ],
      "text/plain": [
       "N*(N*(25.0*(t - 1)**2 - 2*(t*((N + 1)*(b*(N - 1) + 1) + 5) - 5)**2) + t**2*(10*N**3*b + N**2*(10*b + 5) + N*(60 - 10*b) - 10*b + 105) + t*(-50*N - 150) + 50)/(50*(N + 1)**2)"
      ]
     },
     "execution_count": 17,
     "metadata": {},
     "output_type": "execute_result"
    }
   ],
   "source": [
    "collect(eq_3_final,N)"
   ]
  },
  {
   "cell_type": "code",
   "execution_count": 18,
   "metadata": {},
   "outputs": [
    {
     "data": {
      "text/latex": [
       "$\\displaystyle \\frac{N \\left(25.0 N \\left(t - 1\\right)^{2} - 2 N \\left(t \\left(\\left(N + 1\\right) \\left(b \\left(N - 1\\right) + 1\\right) + 5\\right) - 5\\right)^{2} + 5 t^{2} \\left(2 N^{3} b + 2 N^{2} b + N^{2} - 2 N b + 12 N - 2 b + 21\\right) - 50 t \\left(N + 3\\right) + 50\\right)}{50 \\left(N + 1\\right)^{2}}$"
      ],
      "text/plain": [
       "N*(25.0*N*(t - 1)**2 - 2*N*(t*((N + 1)*(b*(N - 1) + 1) + 5) - 5)**2 + 5*t**2*(2*N**3*b + 2*N**2*b + N**2 - 2*N*b + 12*N - 2*b + 21) - 50*t*(N + 3) + 50)/(50*(N + 1)**2)"
      ]
     },
     "execution_count": 18,
     "metadata": {},
     "output_type": "execute_result"
    }
   ],
   "source": [
    "simplify(eq_3_final)"
   ]
  },
  {
   "cell_type": "markdown",
   "metadata": {},
   "source": [
    "### Innovation 4\n",
    "* W = **eq_3_final**, arranged by t    \n",
    "\n",
    "(4) $ \\frac{\\partial W}{\\partial t} $  "
   ]
  },
  {
   "cell_type": "code",
   "execution_count": 19,
   "metadata": {},
   "outputs": [
    {
     "data": {
      "text/latex": [
       "$\\displaystyle \\frac{N \\left(25.0 N \\left(2 t - 2\\right) - 2 N \\left(t \\left(\\left(N + 1\\right) \\left(b \\left(N - 1\\right) + 1\\right) + 5\\right) - 5\\right) \\left(2 \\left(N + 1\\right) \\left(b \\left(N - 1\\right) + 1\\right) + 10\\right) - 50 N + 2 t \\left(10 N^{3} b + 10 N^{2} b + 5 N^{2} - 10 N b + 60 N - 10 b + 105\\right) - 150\\right)}{50 \\left(N + 1\\right)^{2}}$"
      ],
      "text/plain": [
       "N*(25.0*N*(2*t - 2) - 2*N*(t*((N + 1)*(b*(N - 1) + 1) + 5) - 5)*(2*(N + 1)*(b*(N - 1) + 1) + 10) - 50*N + 2*t*(10*N**3*b + 10*N**2*b + 5*N**2 - 10*N*b + 60*N - 10*b + 105) - 150)/(50*(N + 1)**2)"
      ]
     },
     "execution_count": 19,
     "metadata": {},
     "output_type": "execute_result"
    }
   ],
   "source": [
    "eq_4 = diff(eq_3_final,t)\n",
    "eq_4"
   ]
  },
  {
   "cell_type": "code",
   "execution_count": 20,
   "metadata": {},
   "outputs": [
    {
     "data": {
      "text/latex": [
       "$\\displaystyle - \\frac{N \\left(- 50.0 N \\left(t - 1\\right) + 4 N \\left(t \\left(\\left(N + 1\\right) \\left(b \\left(N - 1\\right) + 1\\right) + 5\\right) - 5\\right) \\left(\\left(N + 1\\right) \\left(b \\left(N - 1\\right) + 1\\right) + 5\\right) + 50 N + t \\left(- 20 N^{3} b - 20 N^{2} b - 10 N^{2} + 20 N b - 120 N + 20 b - 210\\right) + 150\\right)}{50 \\left(N + 1\\right)^{2}}$"
      ],
      "text/plain": [
       "-N*(-50.0*N*(t - 1) + 4*N*(t*((N + 1)*(b*(N - 1) + 1) + 5) - 5)*((N + 1)*(b*(N - 1) + 1) + 5) + 50*N + t*(-20*N**3*b - 20*N**2*b - 10*N**2 + 20*N*b - 120*N + 20*b - 210) + 150)/(50*(N + 1)**2)"
      ]
     },
     "execution_count": 20,
     "metadata": {},
     "output_type": "execute_result"
    }
   ],
   "source": [
    "collect(simplify(eq_4),t)"
   ]
  },
  {
   "cell_type": "markdown",
   "metadata": {},
   "source": [
    "### Innovation 5, 6\n",
    "(5) Z(N;b=0)  \n",
    "(6) $ \\frac{\\partial Z(N)}{\\partial N} $  "
   ]
  },
  {
   "cell_type": "code",
   "execution_count": 22,
   "metadata": {},
   "outputs": [
    {
     "ename": "SyntaxError",
     "evalue": "invalid syntax (<ipython-input-22-7f5425963212>, line 1)",
     "output_type": "error",
     "traceback": [
      "\u001b[1;36m  File \u001b[1;32m\"<ipython-input-22-7f5425963212>\"\u001b[1;36m, line \u001b[1;32m1\u001b[0m\n\u001b[1;33m    ***(5) Z(N)***\u001b[0m\n\u001b[1;37m     ^\u001b[0m\n\u001b[1;31mSyntaxError\u001b[0m\u001b[1;31m:\u001b[0m invalid syntax\n"
     ]
    }
   ],
   "source": [
    "***(5) Z(N)*** "
   ]
  },
  {
   "cell_type": "code",
   "execution_count": 23,
   "metadata": {},
   "outputs": [
    {
     "data": {
      "text/latex": [
       "$\\displaystyle \\frac{5 N^{2} \\left(2 N + 4 - \\frac{1}{N}\\right)}{5 N^{2} + 2 N \\left(N + 6\\right)^{2} + 35 N + 5}$"
      ],
      "text/plain": [
       "5*N**2*(2*N + 4 - 1/N)/(5*N**2 + 2*N*(N + 6)**2 + 35*N + 5)"
      ]
     },
     "execution_count": 23,
     "metadata": {},
     "output_type": "execute_result"
    }
   ],
   "source": [
    "Z = (5*N**2*((2-1/N)+2+2*N))/(2*N*(N+6)**2 + 5*(1+7*N+N**2))\n",
    "Z"
   ]
  },
  {
   "cell_type": "code",
   "execution_count": 24,
   "metadata": {},
   "outputs": [
    {
     "data": {
      "text/latex": [
       "$\\displaystyle \\frac{10 N^{3}}{2 N^{3} + 29 N^{2} + 107 N + 5} + \\frac{20 N^{2}}{2 N^{3} + 29 N^{2} + 107 N + 5} - \\frac{5 N}{2 N^{3} + 29 N^{2} + 107 N + 5}$"
      ],
      "text/plain": [
       "10*N**3/(2*N**3 + 29*N**2 + 107*N + 5) + 20*N**2/(2*N**3 + 29*N**2 + 107*N + 5) - 5*N/(2*N**3 + 29*N**2 + 107*N + 5)"
      ]
     },
     "execution_count": 24,
     "metadata": {},
     "output_type": "execute_result"
    }
   ],
   "source": [
    "expand(Z)"
   ]
  },
  {
   "cell_type": "code",
   "execution_count": 25,
   "metadata": {},
   "outputs": [
    {
     "data": {
      "text/latex": [
       "$\\displaystyle \\frac{5 N \\left(2 N^{2} + 4 N - 1\\right)}{2 N^{3} + 29 N^{2} + 107 N + 5}$"
      ],
      "text/plain": [
       "5*N*(2*N**2 + 4*N - 1)/(2*N**3 + 29*N**2 + 107*N + 5)"
      ]
     },
     "execution_count": 25,
     "metadata": {},
     "output_type": "execute_result"
    }
   ],
   "source": [
    "Z_simple = simplify(Z)\n",
    "Z_simple"
   ]
  },
  {
   "cell_type": "code",
   "execution_count": 26,
   "metadata": {},
   "outputs": [
    {
     "data": {
      "text/latex": [
       "$\\displaystyle \\frac{5 N \\left(4 N + 4\\right)}{2 N^{3} + 29 N^{2} + 107 N + 5} + \\frac{5 N \\left(- 6 N^{2} - 58 N - 107\\right) \\left(2 N^{2} + 4 N - 1\\right)}{\\left(2 N^{3} + 29 N^{2} + 107 N + 5\\right)^{2}} + \\frac{5 \\left(2 N^{2} + 4 N - 1\\right)}{2 N^{3} + 29 N^{2} + 107 N + 5}$"
      ],
      "text/plain": [
       "5*N*(4*N + 4)/(2*N**3 + 29*N**2 + 107*N + 5) + 5*N*(-6*N**2 - 58*N - 107)*(2*N**2 + 4*N - 1)/(2*N**3 + 29*N**2 + 107*N + 5)**2 + 5*(2*N**2 + 4*N - 1)/(2*N**3 + 29*N**2 + 107*N + 5)"
      ]
     },
     "execution_count": 26,
     "metadata": {},
     "output_type": "execute_result"
    }
   ],
   "source": [
    "diff(Z_simple, N)"
   ]
  },
  {
   "cell_type": "code",
   "execution_count": 27,
   "metadata": {},
   "outputs": [
    {
     "data": {
      "text/latex": [
       "$\\displaystyle \\frac{5 \\left(50 N^{4} + 432 N^{3} + 487 N^{2} + 40 N - 5\\right)}{4 N^{6} + 116 N^{5} + 1269 N^{4} + 6226 N^{3} + 11739 N^{2} + 1070 N + 25}$"
      ],
      "text/plain": [
       "5*(50*N**4 + 432*N**3 + 487*N**2 + 40*N - 5)/(4*N**6 + 116*N**5 + 1269*N**4 + 6226*N**3 + 11739*N**2 + 1070*N + 25)"
      ]
     },
     "execution_count": 27,
     "metadata": {},
     "output_type": "execute_result"
    }
   ],
   "source": [
    "simplify(diff(Z_simple, N))"
   ]
  },
  {
   "cell_type": "code",
   "execution_count": 28,
   "metadata": {},
   "outputs": [
    {
     "ename": "SyntaxError",
     "evalue": "invalid syntax (<ipython-input-28-7f25530432ef>, line 2)",
     "output_type": "error",
     "traceback": [
      "\u001b[1;36m  File \u001b[1;32m\"<ipython-input-28-7f25530432ef>\"\u001b[1;36m, line \u001b[1;32m2\u001b[0m\n\u001b[1;33m    (7) $ \\frac{\\partial Z(N)}{\\partial N} >0 $\u001b[0m\n\u001b[1;37m        ^\u001b[0m\n\u001b[1;31mSyntaxError\u001b[0m\u001b[1;31m:\u001b[0m invalid syntax\n"
     ]
    }
   ],
   "source": [
    "### Innovation.7 The above equation is positive\n",
    "(7) $ \\frac{\\partial Z(N)}{\\partial N} >0 $  "
   ]
  },
  {
   "cell_type": "markdown",
   "metadata": {},
   "source": [
    "* The above euqtion is positive mbecause the numeartor is positive with the given assumption $N \\geq 2$"
   ]
  },
  {
   "cell_type": "markdown",
   "metadata": {},
   "source": [
    "$50N^{4}+432N^{3}+487N^{2}+40N−5 > 0 $"
   ]
  },
  {
   "cell_type": "markdown",
   "metadata": {},
   "source": [
    "### TA innovation 8,9 \n",
    "(8) Z(N;b=0.5)  \n",
    "(9) $ \\frac{\\partial Z(N)}{\\partial N} $  "
   ]
  },
  {
   "cell_type": "code",
   "execution_count": null,
   "metadata": {},
   "outputs": [],
   "source": [
    "(8) Z(N;b=0.5) "
   ]
  },
  {
   "cell_type": "code",
   "execution_count": 32,
   "metadata": {},
   "outputs": [
    {
     "data": {
      "text/latex": [
       "$\\displaystyle \\frac{5 N^{2} \\left(\\left(0.5 - 0.5 N\\right) \\left(2 N + 2\\right) + 2 - \\frac{1}{N}\\right)}{5 N^{2} + 2 N \\left(0.5 N^{2} + N - 5.5\\right) + 35 N + 5}$"
      ],
      "text/plain": [
       "5*N**2*((0.5 - 0.5*N)*(2*N + 2) + 2 - 1/N)/(5*N**2 + 2*N*(0.5*N**2 + N - 5.5) + 35*N + 5)"
      ]
     },
     "execution_count": 32,
     "metadata": {},
     "output_type": "execute_result"
    }
   ],
   "source": [
    "Z_2 = ((5*N**2)*((2-1/N)+2*(1+N)*(1/2-1/2*N)))/(2*N*(N-5.5+0.5*N**2)+ 5*(1+7*N+N**2))\n",
    "Z_2 "
   ]
  },
  {
   "cell_type": "markdown",
   "metadata": {},
   "source": [
    "(9) $ \\frac{\\partial Z(N)}{\\partial N} $  "
   ]
  },
  {
   "cell_type": "code",
   "execution_count": 34,
   "metadata": {},
   "outputs": [
    {
     "data": {
      "text/latex": [
       "$\\displaystyle \\frac{5 N^{2} \\left(- 2.0 N + \\frac{1}{N^{2}}\\right)}{5 N^{2} + 2 N \\left(0.5 N^{2} + N - 5.5\\right) + 35 N + 5} + \\frac{5 N^{2} \\left(\\left(0.5 - 0.5 N\\right) \\left(2 N + 2\\right) + 2 - \\frac{1}{N}\\right) \\left(- N^{2} - 2 N \\left(1.0 N + 1\\right) - 12 N - 24.0\\right)}{\\left(5 N^{2} + 2 N \\left(0.5 N^{2} + N - 5.5\\right) + 35 N + 5\\right)^{2}} + \\frac{10 N \\left(\\left(0.5 - 0.5 N\\right) \\left(2 N + 2\\right) + 2 - \\frac{1}{N}\\right)}{5 N^{2} + 2 N \\left(0.5 N^{2} + N - 5.5\\right) + 35 N + 5}$"
      ],
      "text/plain": [
       "5*N**2*(-2.0*N + N**(-2))/(5*N**2 + 2*N*(0.5*N**2 + N - 5.5) + 35*N + 5) + 5*N**2*((0.5 - 0.5*N)*(2*N + 2) + 2 - 1/N)*(-N**2 - 2*N*(1.0*N + 1) - 12*N - 24.0)/(5*N**2 + 2*N*(0.5*N**2 + N - 5.5) + 35*N + 5)**2 + 10*N*((0.5 - 0.5*N)*(2*N + 2) + 2 - 1/N)/(5*N**2 + 2*N*(0.5*N**2 + N - 5.5) + 35*N + 5)"
      ]
     },
     "execution_count": 34,
     "metadata": {},
     "output_type": "execute_result"
    }
   ],
   "source": [
    "eq_9 = diff(Z_2,N)\n",
    "eq_9"
   ]
  },
  {
   "cell_type": "code",
   "execution_count": 35,
   "metadata": {},
   "outputs": [
    {
     "data": {
      "text/latex": [
       "$\\displaystyle \\frac{- 5.0 N^{6} - 70.0 N^{5} - 375.0 N^{4} - 90.0 N^{3} + 395.0 N^{2} + 150.0 N - 25.0}{1.0 N^{6} + 14.0 N^{5} + 97.0 N^{4} + 346.0 N^{3} + 646.0 N^{2} + 240.0 N + 25.0}$"
      ],
      "text/plain": [
       "(-5.0*N**6 - 70.0*N**5 - 375.0*N**4 - 90.0*N**3 + 395.0*N**2 + 150.0*N - 25.0)/(1.0*N**6 + 14.0*N**5 + 97.0*N**4 + 346.0*N**3 + 646.0*N**2 + 240.0*N + 25.0)"
      ]
     },
     "execution_count": 35,
     "metadata": {},
     "output_type": "execute_result"
    }
   ],
   "source": [
    "simplify(eq_9)"
   ]
  },
  {
   "cell_type": "code",
   "execution_count": 36,
   "metadata": {},
   "outputs": [],
   "source": [
    "### Innovation 10"
   ]
  },
  {
   "cell_type": "code",
   "execution_count": 37,
   "metadata": {},
   "outputs": [
    {
     "data": {
      "text/plain": [
       "[CRootOf(6*N**6 + 70*N**5 + 375*N**4 + 90*N**3 - 395*N**2 - 150*N + 25, 0),\n",
       " CRootOf(6*N**6 + 70*N**5 + 375*N**4 + 90*N**3 - 395*N**2 - 150*N + 25, 1),\n",
       " CRootOf(6*N**6 + 70*N**5 + 375*N**4 + 90*N**3 - 395*N**2 - 150*N + 25, 2),\n",
       " CRootOf(6*N**6 + 70*N**5 + 375*N**4 + 90*N**3 - 395*N**2 - 150*N + 25, 3),\n",
       " CRootOf(6*N**6 + 70*N**5 + 375*N**4 + 90*N**3 - 395*N**2 - 150*N + 25, 4),\n",
       " CRootOf(6*N**6 + 70*N**5 + 375*N**4 + 90*N**3 - 395*N**2 - 150*N + 25, 5)]"
      ]
     },
     "execution_count": 37,
     "metadata": {},
     "output_type": "execute_result"
    }
   ],
   "source": [
    "solve( 6*N**6+70*N**5+375*N**4+90*N**3-395*N**2-150*N+25,N)"
   ]
  },
  {
   "cell_type": "markdown",
   "metadata": {},
   "source": [
    "-_-....before asking me to solve 6th order polynomial...it may better to know what is possible..alas"
   ]
  },
  {
   "cell_type": "code",
   "execution_count": null,
   "metadata": {},
   "outputs": [],
   "source": []
  }
 ],
 "metadata": {
  "kernelspec": {
   "display_name": "Python 3",
   "language": "python",
   "name": "python3"
  },
  "language_info": {
   "codemirror_mode": {
    "name": "ipython",
    "version": 3
   },
   "file_extension": ".py",
   "mimetype": "text/x-python",
   "name": "python",
   "nbconvert_exporter": "python",
   "pygments_lexer": "ipython3",
   "version": "3.7.3"
  }
 },
 "nbformat": 4,
 "nbformat_minor": 2
}
