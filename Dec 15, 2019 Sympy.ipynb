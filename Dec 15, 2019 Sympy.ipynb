{
 "cells": [
  {
   "cell_type": "markdown",
   "metadata": {},
   "source": [
    "# Dec 15, 2019 Symbolic Python \n",
    "* Name: Jikhan Jeong\n",
    "* Ref: https://github.com/sympy/sympy (for download) # install conda sympy (in torch_env)"
   ]
  },
  {
   "cell_type": "code",
   "execution_count": 28,
   "metadata": {},
   "outputs": [],
   "source": [
    "from sympy import *\n",
    "import math"
   ]
  },
  {
   "cell_type": "code",
   "execution_count": 3,
   "metadata": {},
   "outputs": [],
   "source": [
    "a,b,x,y,r = symbols('a b x y r')"
   ]
  },
  {
   "cell_type": "markdown",
   "metadata": {},
   "source": [
    "### Fx"
   ]
  },
  {
   "cell_type": "code",
   "execution_count": 4,
   "metadata": {},
   "outputs": [],
   "source": [
    "fx = (a*x**(r-1))*(a*x**r+b*y**r)**(1/r-1)"
   ]
  },
  {
   "cell_type": "code",
   "execution_count": 5,
   "metadata": {},
   "outputs": [
    {
     "data": {
      "text/latex": [
       "$\\displaystyle a x^{r - 1} \\left(a x^{r} + b y^{r}\\right)^{-1 + \\frac{1}{r}}$"
      ],
      "text/plain": [
       "a*x**(r - 1)*(a*x**r + b*y**r)**(-1 + 1/r)"
      ]
     },
     "execution_count": 5,
     "metadata": {},
     "output_type": "execute_result"
    }
   ],
   "source": [
    "fx"
   ]
  },
  {
   "cell_type": "markdown",
   "metadata": {},
   "source": [
    "### Fy"
   ]
  },
  {
   "cell_type": "code",
   "execution_count": 19,
   "metadata": {},
   "outputs": [],
   "source": [
    "fy = (b*y**(r-1))*(a*x**r+b*y**r)**(1/r-1)"
   ]
  },
  {
   "cell_type": "code",
   "execution_count": 20,
   "metadata": {},
   "outputs": [
    {
     "data": {
      "text/latex": [
       "$\\displaystyle b y^{r - 1} \\left(a x^{r} + b y^{r}\\right)^{-1 + \\frac{1}{r}}$"
      ],
      "text/plain": [
       "b*y**(r - 1)*(a*x**r + b*y**r)**(-1 + 1/r)"
      ]
     },
     "execution_count": 20,
     "metadata": {},
     "output_type": "execute_result"
    }
   ],
   "source": [
    "fy"
   ]
  },
  {
   "cell_type": "markdown",
   "metadata": {},
   "source": [
    "### F_xx"
   ]
  },
  {
   "cell_type": "code",
   "execution_count": 21,
   "metadata": {},
   "outputs": [
    {
     "data": {
      "text/latex": [
       "$\\displaystyle \\frac{a^{2} r x^{r} x^{r - 1} \\left(-1 + \\frac{1}{r}\\right) \\left(a x^{r} + b y^{r}\\right)^{-1 + \\frac{1}{r}}}{x \\left(a x^{r} + b y^{r}\\right)} + \\frac{a x^{r - 1} \\left(r - 1\\right) \\left(a x^{r} + b y^{r}\\right)^{-1 + \\frac{1}{r}}}{x}$"
      ],
      "text/plain": [
       "a**2*r*x**r*x**(r - 1)*(-1 + 1/r)*(a*x**r + b*y**r)**(-1 + 1/r)/(x*(a*x**r + b*y**r)) + a*x**(r - 1)*(r - 1)*(a*x**r + b*y**r)**(-1 + 1/r)/x"
      ]
     },
     "execution_count": 21,
     "metadata": {},
     "output_type": "execute_result"
    }
   ],
   "source": [
    "fxx = diff(fx,x)\n",
    "fxx "
   ]
  },
  {
   "cell_type": "code",
   "execution_count": 22,
   "metadata": {},
   "outputs": [
    {
     "data": {
      "text/latex": [
       "$\\displaystyle \\frac{a b x^{r - 1} y^{r} \\left(r - 1\\right) \\left(a x^{r} + b y^{r}\\right)^{-1 + \\frac{1}{r}}}{x \\left(a x^{r} + b y^{r}\\right)}$"
      ],
      "text/plain": [
       "a*b*x**(r - 1)*y**r*(r - 1)*(a*x**r + b*y**r)**(-1 + 1/r)/(x*(a*x**r + b*y**r))"
      ]
     },
     "execution_count": 22,
     "metadata": {},
     "output_type": "execute_result"
    }
   ],
   "source": [
    "factor(fxx)"
   ]
  },
  {
   "cell_type": "code",
   "execution_count": 26,
   "metadata": {},
   "outputs": [
    {
     "data": {
      "text/latex": [
       "$\\displaystyle \\frac{a x^{r - 2} \\left(a x^{r} \\left(1 - r\\right) \\left(a x^{r} + b y^{r}\\right)^{\\frac{1 - r}{r}} + \\left(r - 1\\right) \\left(a x^{r} + b y^{r}\\right)^{\\frac{1}{r}}\\right)}{a x^{r} + b y^{r}}$"
      ],
      "text/plain": [
       "a*x**(r - 2)*(a*x**r*(1 - r)*(a*x**r + b*y**r)**((1 - r)/r) + (r - 1)*(a*x**r + b*y**r)**(1/r))/(a*x**r + b*y**r)"
      ]
     },
     "execution_count": 26,
     "metadata": {},
     "output_type": "execute_result"
    }
   ],
   "source": [
    "simplify(fxx)"
   ]
  },
  {
   "cell_type": "markdown",
   "metadata": {},
   "source": [
    "### F_xy"
   ]
  },
  {
   "cell_type": "code",
   "execution_count": 14,
   "metadata": {},
   "outputs": [
    {
     "data": {
      "text/latex": [
       "$\\displaystyle \\frac{a b r x^{r - 1} y^{r} \\left(-1 + \\frac{1}{r}\\right) \\left(a x^{r} + b y^{r}\\right)^{-1 + \\frac{1}{r}}}{y \\left(a x^{r} + b y^{r}\\right)}$"
      ],
      "text/plain": [
       "a*b*r*x**(r - 1)*y**r*(-1 + 1/r)*(a*x**r + b*y**r)**(-1 + 1/r)/(y*(a*x**r + b*y**r))"
      ]
     },
     "execution_count": 14,
     "metadata": {},
     "output_type": "execute_result"
    }
   ],
   "source": [
    "fxy = diff(fx,y)\n",
    "fxy"
   ]
  },
  {
   "cell_type": "code",
   "execution_count": 15,
   "metadata": {},
   "outputs": [
    {
     "data": {
      "text/latex": [
       "$\\displaystyle - \\frac{a b x^{r - 1} y^{r} \\left(r - 1\\right) \\left(a x^{r} + b y^{r}\\right)^{-1 + \\frac{1}{r}}}{y \\left(a x^{r} + b y^{r}\\right)}$"
      ],
      "text/plain": [
       "-a*b*x**(r - 1)*y**r*(r - 1)*(a*x**r + b*y**r)**(-1 + 1/r)/(y*(a*x**r + b*y**r))"
      ]
     },
     "execution_count": 15,
     "metadata": {},
     "output_type": "execute_result"
    }
   ],
   "source": [
    "factor(fxy)"
   ]
  },
  {
   "cell_type": "markdown",
   "metadata": {},
   "source": [
    "### F_yy"
   ]
  },
  {
   "cell_type": "code",
   "execution_count": 23,
   "metadata": {},
   "outputs": [
    {
     "data": {
      "text/latex": [
       "$\\displaystyle \\frac{b^{2} r y^{r} y^{r - 1} \\left(-1 + \\frac{1}{r}\\right) \\left(a x^{r} + b y^{r}\\right)^{-1 + \\frac{1}{r}}}{y \\left(a x^{r} + b y^{r}\\right)} + \\frac{b y^{r - 1} \\left(r - 1\\right) \\left(a x^{r} + b y^{r}\\right)^{-1 + \\frac{1}{r}}}{y}$"
      ],
      "text/plain": [
       "b**2*r*y**r*y**(r - 1)*(-1 + 1/r)*(a*x**r + b*y**r)**(-1 + 1/r)/(y*(a*x**r + b*y**r)) + b*y**(r - 1)*(r - 1)*(a*x**r + b*y**r)**(-1 + 1/r)/y"
      ]
     },
     "execution_count": 23,
     "metadata": {},
     "output_type": "execute_result"
    }
   ],
   "source": [
    "fyy = diff(fy,y)\n",
    "fyy"
   ]
  },
  {
   "cell_type": "code",
   "execution_count": 24,
   "metadata": {},
   "outputs": [
    {
     "data": {
      "text/latex": [
       "$\\displaystyle \\frac{a b x^{r} y^{r - 1} \\left(r - 1\\right) \\left(a x^{r} + b y^{r}\\right)^{-1 + \\frac{1}{r}}}{y \\left(a x^{r} + b y^{r}\\right)}$"
      ],
      "text/plain": [
       "a*b*x**r*y**(r - 1)*(r - 1)*(a*x**r + b*y**r)**(-1 + 1/r)/(y*(a*x**r + b*y**r))"
      ]
     },
     "execution_count": 24,
     "metadata": {},
     "output_type": "execute_result"
    }
   ],
   "source": [
    "factor(fyy)"
   ]
  },
  {
   "cell_type": "code",
   "execution_count": 27,
   "metadata": {},
   "outputs": [
    {
     "data": {
      "text/latex": [
       "$\\displaystyle \\frac{b y^{r - 2} \\left(b y^{r} \\left(1 - r\\right) \\left(a x^{r} + b y^{r}\\right)^{\\frac{1 - r}{r}} + \\left(r - 1\\right) \\left(a x^{r} + b y^{r}\\right)^{\\frac{1}{r}}\\right)}{a x^{r} + b y^{r}}$"
      ],
      "text/plain": [
       "b*y**(r - 2)*(b*y**r*(1 - r)*(a*x**r + b*y**r)**((1 - r)/r) + (r - 1)*(a*x**r + b*y**r)**(1/r))/(a*x**r + b*y**r)"
      ]
     },
     "execution_count": 27,
     "metadata": {},
     "output_type": "execute_result"
    }
   ],
   "source": [
    "simplify(fyy)"
   ]
  },
  {
   "cell_type": "code",
   "execution_count": null,
   "metadata": {},
   "outputs": [],
   "source": []
  }
 ],
 "metadata": {
  "kernelspec": {
   "display_name": "Python 3",
   "language": "python",
   "name": "python3"
  },
  "language_info": {
   "codemirror_mode": {
    "name": "ipython",
    "version": 3
   },
   "file_extension": ".py",
   "mimetype": "text/x-python",
   "name": "python",
   "nbconvert_exporter": "python",
   "pygments_lexer": "ipython3",
   "version": "3.7.4"
  }
 },
 "nbformat": 4,
 "nbformat_minor": 4
}
