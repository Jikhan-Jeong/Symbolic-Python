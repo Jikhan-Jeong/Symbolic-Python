{
 "cells": [
  {
   "cell_type": "markdown",
   "metadata": {},
   "source": [
    "# Nov 24, 2019 Symbolic Python Quantity Competition\n",
    "* Name: Jikhan Jeong\n",
    "* Nov 24, Cournot Competition R&D Investment"
   ]
  },
  {
   "cell_type": "code",
   "execution_count": 3,
   "metadata": {},
   "outputs": [],
   "source": [
    "from sympy import *\n",
    "import math"
   ]
  },
  {
   "cell_type": "code",
   "execution_count": 15,
   "metadata": {},
   "outputs": [
    {
     "data": {
      "text/plain": [
       "(x_i, n, x, r, c)"
      ]
     },
     "execution_count": 15,
     "metadata": {},
     "output_type": "execute_result"
    }
   ],
   "source": [
    "xi, n, x, r, c =symbols('x_i n x r c')\n",
    "xi, n, x, r, c"
   ]
  },
  {
   "cell_type": "code",
   "execution_count": 16,
   "metadata": {},
   "outputs": [],
   "source": [
    "competition_effect = (2*n*(n-1)*(xi-x))/((n+1)**2)"
   ]
  },
  {
   "cell_type": "code",
   "execution_count": 17,
   "metadata": {},
   "outputs": [
    {
     "data": {
      "text/latex": [
       "$\\displaystyle \\frac{2 n \\left(n - 1\\right) \\left(- x + x_{i}\\right)}{\\left(n + 1\\right)^{2}}$"
      ],
      "text/plain": [
       "2*n*(n - 1)*(-x + x_i)/(n + 1)**2"
      ]
     },
     "execution_count": 17,
     "metadata": {},
     "output_type": "execute_result"
    }
   ],
   "source": [
    "competition_effect"
   ]
  },
  {
   "cell_type": "markdown",
   "metadata": {},
   "source": [
    "### 1. First depreciation > 0 where, xi-x>0"
   ]
  },
  {
   "cell_type": "code",
   "execution_count": 18,
   "metadata": {},
   "outputs": [
    {
     "data": {
      "text/latex": [
       "$\\displaystyle - \\frac{4 n \\left(n - 1\\right) \\left(- x + x_{i}\\right)}{\\left(n + 1\\right)^{3}} + \\frac{2 n \\left(- x + x_{i}\\right)}{\\left(n + 1\\right)^{2}} + \\frac{2 \\left(n - 1\\right) \\left(- x + x_{i}\\right)}{\\left(n + 1\\right)^{2}}$"
      ],
      "text/plain": [
       "-4*n*(n - 1)*(-x + x_i)/(n + 1)**3 + 2*n*(-x + x_i)/(n + 1)**2 + 2*(n - 1)*(-x + x_i)/(n + 1)**2"
      ]
     },
     "execution_count": 18,
     "metadata": {},
     "output_type": "execute_result"
    }
   ],
   "source": [
    "first = diff(competition_effect, n)\n",
    "first"
   ]
  },
  {
   "cell_type": "code",
   "execution_count": 19,
   "metadata": {},
   "outputs": [
    {
     "data": {
      "text/latex": [
       "$\\displaystyle \\frac{2 \\left(x - x_{i}\\right) \\left(2 n \\left(n - 1\\right) + \\left(1 - 2 n\\right) \\left(n + 1\\right)\\right)}{\\left(n + 1\\right)^{3}}$"
      ],
      "text/plain": [
       "2*(x - x_i)*(2*n*(n - 1) + (1 - 2*n)*(n + 1))/(n + 1)**3"
      ]
     },
     "execution_count": 19,
     "metadata": {},
     "output_type": "execute_result"
    }
   ],
   "source": [
    "simplify(first)"
   ]
  },
  {
   "cell_type": "code",
   "execution_count": 20,
   "metadata": {},
   "outputs": [
    {
     "data": {
      "text/latex": [
       "$\\displaystyle 1 - 3 n$"
      ],
      "text/plain": [
       "1 - 3*n"
      ]
     },
     "execution_count": 20,
     "metadata": {},
     "output_type": "execute_result"
    }
   ],
   "source": [
    "simplify(2*n*(n-1)+(1-2*n)*(n+1)) # one part of numerator is <, and (x-x_i)<0 so >"
   ]
  },
  {
   "cell_type": "markdown",
   "metadata": {},
   "source": [
    "### 2. Second depreviation <0, where xi-x>0"
   ]
  },
  {
   "cell_type": "code",
   "execution_count": 21,
   "metadata": {},
   "outputs": [
    {
     "data": {
      "text/latex": [
       "$\\displaystyle \\frac{12 n \\left(n - 1\\right) \\left(- x + x_{i}\\right)}{\\left(n + 1\\right)^{4}} - \\frac{8 n \\left(- x + x_{i}\\right)}{\\left(n + 1\\right)^{3}} - \\frac{8 \\left(n - 1\\right) \\left(- x + x_{i}\\right)}{\\left(n + 1\\right)^{3}} + \\frac{4 \\left(- x + x_{i}\\right)}{\\left(n + 1\\right)^{2}}$"
      ],
      "text/plain": [
       "12*n*(n - 1)*(-x + x_i)/(n + 1)**4 - 8*n*(-x + x_i)/(n + 1)**3 - 8*(n - 1)*(-x + x_i)/(n + 1)**3 + 4*(-x + x_i)/(n + 1)**2"
      ]
     },
     "execution_count": 21,
     "metadata": {},
     "output_type": "execute_result"
    }
   ],
   "source": [
    "second = diff(first,n)\n",
    "second"
   ]
  },
  {
   "cell_type": "code",
   "execution_count": 22,
   "metadata": {},
   "outputs": [
    {
     "data": {
      "text/latex": [
       "$\\displaystyle \\frac{12 \\left(n x - n x_{i} - x + x_{i}\\right)}{n^{4} + 4 n^{3} + 6 n^{2} + 4 n + 1}$"
      ],
      "text/plain": [
       "12*(n*x - n*x_i - x + x_i)/(n**4 + 4*n**3 + 6*n**2 + 4*n + 1)"
      ]
     },
     "execution_count": 22,
     "metadata": {},
     "output_type": "execute_result"
    }
   ],
   "source": [
    "simplify(second)"
   ]
  },
  {
   "cell_type": "code",
   "execution_count": 33,
   "metadata": {},
   "outputs": [
    {
     "data": {
      "text/latex": [
       "$\\displaystyle n^{4} + 4 n^{3} + 6 n^{2} + 4 n + 1$"
      ],
      "text/plain": [
       "n**4 + 4*n**3 + 6*n**2 + 4*n + 1"
      ]
     },
     "execution_count": 33,
     "metadata": {},
     "output_type": "execute_result"
    }
   ],
   "source": [
    "simplify(n**4+4*n**3+6*n**2+4*n+1)"
   ]
  },
  {
   "cell_type": "markdown",
   "metadata": {},
   "source": [
    "### 3. Differential of FOC of total by xi  = second order condition"
   ]
  },
  {
   "cell_type": "code",
   "execution_count": 24,
   "metadata": {},
   "outputs": [
    {
     "data": {
      "text/latex": [
       "$\\displaystyle \\frac{2 n \\left(n - 1\\right) \\left(- x + x_{i}\\right)}{\\left(n + 1\\right)^{2}} + \\frac{2 n \\left(- c + x_{i} + 1\\right)}{\\left(n + 1\\right)^{2}} - r x_{i}$"
      ],
      "text/plain": [
       "2*n*(n - 1)*(-x + x_i)/(n + 1)**2 + 2*n*(-c + x_i + 1)/(n + 1)**2 - r*x_i"
      ]
     },
     "execution_count": 24,
     "metadata": {},
     "output_type": "execute_result"
    }
   ],
   "source": [
    "foc_of_profit = 2*n*(1-c+xi)/((n+1)**2)+competition_effect-r*xi\n",
    "foc_of_profit"
   ]
  },
  {
   "cell_type": "code",
   "execution_count": 26,
   "metadata": {},
   "outputs": [
    {
     "data": {
      "text/latex": [
       "$\\displaystyle \\frac{2 n \\left(n - 1\\right)}{\\left(n + 1\\right)^{2}} + \\frac{2 n}{\\left(n + 1\\right)^{2}} - r$"
      ],
      "text/plain": [
       "2*n*(n - 1)/(n + 1)**2 + 2*n/(n + 1)**2 - r"
      ]
     },
     "execution_count": 26,
     "metadata": {},
     "output_type": "execute_result"
    }
   ],
   "source": [
    "soc_of_profit_by_xi = diff(foc_of_profit,xi)\n",
    "soc_of_profit_by_xi "
   ]
  },
  {
   "cell_type": "code",
   "execution_count": 28,
   "metadata": {},
   "outputs": [
    {
     "data": {
      "text/latex": [
       "$\\displaystyle \\frac{2 n^{2}}{n^{2} + 2 n + 1} - r$"
      ],
      "text/plain": [
       "2*n**2/(n**2 + 2*n + 1) - r"
      ]
     },
     "execution_count": 28,
     "metadata": {},
     "output_type": "execute_result"
    }
   ],
   "source": [
    "expand(soc_of_profit_by_xi)"
   ]
  },
  {
   "cell_type": "code",
   "execution_count": 27,
   "metadata": {},
   "outputs": [
    {
     "data": {
      "text/latex": [
       "$\\displaystyle \\frac{2 n^{2}}{\\left(n + 1\\right)^{2}} - r$"
      ],
      "text/plain": [
       "2*n**2/(n + 1)**2 - r"
      ]
     },
     "execution_count": 27,
     "metadata": {},
     "output_type": "execute_result"
    }
   ],
   "source": [
    "simplify(soc_of_profit_by_xi )"
   ]
  }
 ],
 "metadata": {
  "kernelspec": {
   "display_name": "Python 3",
   "language": "python",
   "name": "python3"
  },
  "language_info": {
   "codemirror_mode": {
    "name": "ipython",
    "version": 3
   },
   "file_extension": ".py",
   "mimetype": "text/x-python",
   "name": "python",
   "nbconvert_exporter": "python",
   "pygments_lexer": "ipython3",
   "version": "3.7.3"
  }
 },
 "nbformat": 4,
 "nbformat_minor": 2
}
